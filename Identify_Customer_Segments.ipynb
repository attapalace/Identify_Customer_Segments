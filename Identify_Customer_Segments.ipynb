{
 "cells": [
  {
   "cell_type": "markdown",
   "metadata": {},
   "source": [
    "# Project: Identify Customer Segments\n",
    "\n",
    "In this project, you will apply unsupervised learning techniques to identify segments of the population that form the core customer base for a mail-order sales company in Germany. These segments can then be used to direct marketing campaigns towards audiences that will have the highest expected rate of returns. The data that you will use has been provided by our partners at Bertelsmann Arvato Analytics, and represents a real-life data science task.\n",
    "\n",
    "This notebook will help you complete this task by providing a framework within which you will perform your analysis steps. In each step of the project, you will see some text describing the subtask that you will perform, followed by one or more code cells for you to complete your work. **Feel free to add additional code and markdown cells as you go along so that you can explore everything in precise chunks.** The code cells provided in the base template will outline only the major tasks, and will usually not be enough to cover all of the minor tasks that comprise it.\n",
    "\n",
    "It should be noted that while there will be precise guidelines on how you should handle certain tasks in the project, there will also be places where an exact specification is not provided. **There will be times in the project where you will need to make and justify your own decisions on how to treat the data.** These are places where there may not be only one way to handle the data. In real-life tasks, there may be many valid ways to approach an analysis task. One of the most important things you can do is clearly document your approach so that other scientists can understand the decisions you've made.\n",
    "\n",
    "At the end of most sections, there will be a Markdown cell labeled **Discussion**. In these cells, you will report your findings for the completed section, as well as document the decisions that you made in your approach to each subtask. **Your project will be evaluated not just on the code used to complete the tasks outlined, but also your communication about your observations and conclusions at each stage.**"
   ]
  },
  {
   "cell_type": "code",
   "execution_count": 1,
   "metadata": {},
   "outputs": [],
   "source": [
    "# import libraries here; add more as necessary\n",
    "import numpy as np\n",
    "import pandas as pd\n",
    "import matplotlib.pyplot as plt\n",
    "import seaborn as sns\n",
    "\n",
    "# magic word for producing visualizations in notebook\n",
    "%matplotlib inline\n",
    "\n",
    "'''\n",
    "Import note: The classroom currently uses sklearn version 0.19.\n",
    "If you need to use an imputer, it is available in sklearn.preprocessing.Imputer,\n",
    "instead of sklearn.impute as in newer versions of sklearn.\n",
    "'''\n",
    "from sklearn.preprocessing import Imputer\n",
    "from sklearn.preprocessing import StandardScaler\n",
    "from sklearn.decomposition import PCA\n",
    "\n",
    "from sklearn.cluster import KMeans"
   ]
  },
  {
   "cell_type": "markdown",
   "metadata": {},
   "source": [
    "### Step 0: Load the Data\n",
    "\n",
    "There are four files associated with this project (not including this one):\n",
    "\n",
    "- `Udacity_AZDIAS_Subset.csv`: Demographics data for the general population of Germany; 891211 persons (rows) x 85 features (columns).\n",
    "- `Udacity_CUSTOMERS_Subset.csv`: Demographics data for customers of a mail-order company; 191652 persons (rows) x 85 features (columns).\n",
    "- `Data_Dictionary.md`: Detailed information file about the features in the provided datasets.\n",
    "- `AZDIAS_Feature_Summary.csv`: Summary of feature attributes for demographics data; 85 features (rows) x 4 columns\n",
    "\n",
    "Each row of the demographics files represents a single person, but also includes information outside of individuals, including information about their household, building, and neighborhood. You will use this information to cluster the general population into groups with similar demographic properties. Then, you will see how the people in the customers dataset fit into those created clusters. The hope here is that certain clusters are over-represented in the customers data, as compared to the general population; those over-represented clusters will be assumed to be part of the core userbase. This information can then be used for further applications, such as targeting for a marketing campaign.\n",
    "\n",
    "To start off with, load in the demographics data for the general population into a pandas DataFrame, and do the same for the feature attributes summary. Note for all of the `.csv` data files in this project: they're semicolon (`;`) delimited, so you'll need an additional argument in your [`read_csv()`](https://pandas.pydata.org/pandas-docs/stable/generated/pandas.read_csv.html) call to read in the data properly. Also, considering the size of the main dataset, it may take some time for it to load completely.\n",
    "\n",
    "Once the dataset is loaded, it's recommended that you take a little bit of time just browsing the general structure of the dataset and feature summary file. You'll be getting deep into the innards of the cleaning in the first major step of the project, so gaining some general familiarity can help you get your bearings."
   ]
  },
  {
   "cell_type": "code",
   "execution_count": 2,
   "metadata": {},
   "outputs": [],
   "source": [
    "# Load in the general demographics data.\n",
    "azdias = pd.read_csv('Udacity_AZDIAS_Subset.csv',delimiter=';')\n",
    "\n",
    "# Load in the feature summary file.\n",
    "feat_info = pd.read_csv('AZDIAS_Feature_Summary.csv',delimiter=';')"
   ]
  },
  {
   "cell_type": "code",
   "execution_count": 3,
   "metadata": {},
   "outputs": [
    {
     "data": {
      "text/plain": [
       "(891221, 85)"
      ]
     },
     "execution_count": 3,
     "metadata": {},
     "output_type": "execute_result"
    }
   ],
   "source": [
    "# Check the structure of the data after it's loaded (e.g. print the number of\n",
    "# rows and columns, print the first few rows).\n",
    "azdias.shape"
   ]
  },
  {
   "cell_type": "code",
   "execution_count": 4,
   "metadata": {},
   "outputs": [
    {
     "name": "stdout",
     "output_type": "stream",
     "text": [
      "<class 'pandas.core.frame.DataFrame'>\n",
      "RangeIndex: 891221 entries, 0 to 891220\n",
      "Data columns (total 85 columns):\n",
      "AGER_TYP                 891221 non-null int64\n",
      "ALTERSKATEGORIE_GROB     891221 non-null int64\n",
      "ANREDE_KZ                891221 non-null int64\n",
      "CJT_GESAMTTYP            886367 non-null float64\n",
      "FINANZ_MINIMALIST        891221 non-null int64\n",
      "FINANZ_SPARER            891221 non-null int64\n",
      "FINANZ_VORSORGER         891221 non-null int64\n",
      "FINANZ_ANLEGER           891221 non-null int64\n",
      "FINANZ_UNAUFFAELLIGER    891221 non-null int64\n",
      "FINANZ_HAUSBAUER         891221 non-null int64\n",
      "FINANZTYP                891221 non-null int64\n",
      "GEBURTSJAHR              891221 non-null int64\n",
      "GFK_URLAUBERTYP          886367 non-null float64\n",
      "GREEN_AVANTGARDE         891221 non-null int64\n",
      "HEALTH_TYP               891221 non-null int64\n",
      "LP_LEBENSPHASE_FEIN      886367 non-null float64\n",
      "LP_LEBENSPHASE_GROB      886367 non-null float64\n",
      "LP_FAMILIE_FEIN          886367 non-null float64\n",
      "LP_FAMILIE_GROB          886367 non-null float64\n",
      "LP_STATUS_FEIN           886367 non-null float64\n",
      "LP_STATUS_GROB           886367 non-null float64\n",
      "NATIONALITAET_KZ         891221 non-null int64\n",
      "PRAEGENDE_JUGENDJAHRE    891221 non-null int64\n",
      "RETOURTYP_BK_S           886367 non-null float64\n",
      "SEMIO_SOZ                891221 non-null int64\n",
      "SEMIO_FAM                891221 non-null int64\n",
      "SEMIO_REL                891221 non-null int64\n",
      "SEMIO_MAT                891221 non-null int64\n",
      "SEMIO_VERT               891221 non-null int64\n",
      "SEMIO_LUST               891221 non-null int64\n",
      "SEMIO_ERL                891221 non-null int64\n",
      "SEMIO_KULT               891221 non-null int64\n",
      "SEMIO_RAT                891221 non-null int64\n",
      "SEMIO_KRIT               891221 non-null int64\n",
      "SEMIO_DOM                891221 non-null int64\n",
      "SEMIO_KAEM               891221 non-null int64\n",
      "SEMIO_PFLICHT            891221 non-null int64\n",
      "SEMIO_TRADV              891221 non-null int64\n",
      "SHOPPER_TYP              891221 non-null int64\n",
      "SOHO_KZ                  817722 non-null float64\n",
      "TITEL_KZ                 817722 non-null float64\n",
      "VERS_TYP                 891221 non-null int64\n",
      "ZABEOTYP                 891221 non-null int64\n",
      "ALTER_HH                 817722 non-null float64\n",
      "ANZ_PERSONEN             817722 non-null float64\n",
      "ANZ_TITEL                817722 non-null float64\n",
      "HH_EINKOMMEN_SCORE       872873 non-null float64\n",
      "KK_KUNDENTYP             306609 non-null float64\n",
      "W_KEIT_KIND_HH           783619 non-null float64\n",
      "WOHNDAUER_2008           817722 non-null float64\n",
      "ANZ_HAUSHALTE_AKTIV      798073 non-null float64\n",
      "ANZ_HH_TITEL             794213 non-null float64\n",
      "GEBAEUDETYP              798073 non-null float64\n",
      "KONSUMNAEHE              817252 non-null float64\n",
      "MIN_GEBAEUDEJAHR         798073 non-null float64\n",
      "OST_WEST_KZ              798073 non-null object\n",
      "WOHNLAGE                 798073 non-null float64\n",
      "CAMEO_DEUG_2015          792242 non-null object\n",
      "CAMEO_DEU_2015           792242 non-null object\n",
      "CAMEO_INTL_2015          792242 non-null object\n",
      "KBA05_ANTG1              757897 non-null float64\n",
      "KBA05_ANTG2              757897 non-null float64\n",
      "KBA05_ANTG3              757897 non-null float64\n",
      "KBA05_ANTG4              757897 non-null float64\n",
      "KBA05_BAUMAX             757897 non-null float64\n",
      "KBA05_GBZ                757897 non-null float64\n",
      "BALLRAUM                 797481 non-null float64\n",
      "EWDICHTE                 797481 non-null float64\n",
      "INNENSTADT               797481 non-null float64\n",
      "GEBAEUDETYP_RASTER       798066 non-null float64\n",
      "KKK                      770025 non-null float64\n",
      "MOBI_REGIO               757897 non-null float64\n",
      "ONLINE_AFFINITAET        886367 non-null float64\n",
      "REGIOTYP                 770025 non-null float64\n",
      "KBA13_ANZAHL_PKW         785421 non-null float64\n",
      "PLZ8_ANTG1               774706 non-null float64\n",
      "PLZ8_ANTG2               774706 non-null float64\n",
      "PLZ8_ANTG3               774706 non-null float64\n",
      "PLZ8_ANTG4               774706 non-null float64\n",
      "PLZ8_BAUMAX              774706 non-null float64\n",
      "PLZ8_HHZ                 774706 non-null float64\n",
      "PLZ8_GBZ                 774706 non-null float64\n",
      "ARBEIT                   794005 non-null float64\n",
      "ORTSGR_KLS9              794005 non-null float64\n",
      "RELAT_AB                 794005 non-null float64\n",
      "dtypes: float64(49), int64(32), object(4)\n",
      "memory usage: 578.0+ MB\n"
     ]
    }
   ],
   "source": [
    "azdias.info()"
   ]
  },
  {
   "cell_type": "code",
   "execution_count": 5,
   "metadata": {},
   "outputs": [
    {
     "data": {
      "text/html": [
       "<div>\n",
       "<style scoped>\n",
       "    .dataframe tbody tr th:only-of-type {\n",
       "        vertical-align: middle;\n",
       "    }\n",
       "\n",
       "    .dataframe tbody tr th {\n",
       "        vertical-align: top;\n",
       "    }\n",
       "\n",
       "    .dataframe thead th {\n",
       "        text-align: right;\n",
       "    }\n",
       "</style>\n",
       "<table border=\"1\" class=\"dataframe\">\n",
       "  <thead>\n",
       "    <tr style=\"text-align: right;\">\n",
       "      <th></th>\n",
       "      <th>AGER_TYP</th>\n",
       "      <th>ALTERSKATEGORIE_GROB</th>\n",
       "      <th>ANREDE_KZ</th>\n",
       "      <th>CJT_GESAMTTYP</th>\n",
       "      <th>FINANZ_MINIMALIST</th>\n",
       "      <th>FINANZ_SPARER</th>\n",
       "      <th>FINANZ_VORSORGER</th>\n",
       "      <th>FINANZ_ANLEGER</th>\n",
       "      <th>FINANZ_UNAUFFAELLIGER</th>\n",
       "      <th>FINANZ_HAUSBAUER</th>\n",
       "      <th>...</th>\n",
       "      <th>PLZ8_ANTG1</th>\n",
       "      <th>PLZ8_ANTG2</th>\n",
       "      <th>PLZ8_ANTG3</th>\n",
       "      <th>PLZ8_ANTG4</th>\n",
       "      <th>PLZ8_BAUMAX</th>\n",
       "      <th>PLZ8_HHZ</th>\n",
       "      <th>PLZ8_GBZ</th>\n",
       "      <th>ARBEIT</th>\n",
       "      <th>ORTSGR_KLS9</th>\n",
       "      <th>RELAT_AB</th>\n",
       "    </tr>\n",
       "  </thead>\n",
       "  <tbody>\n",
       "    <tr>\n",
       "      <th>0</th>\n",
       "      <td>-1</td>\n",
       "      <td>2</td>\n",
       "      <td>1</td>\n",
       "      <td>2.0</td>\n",
       "      <td>3</td>\n",
       "      <td>4</td>\n",
       "      <td>3</td>\n",
       "      <td>5</td>\n",
       "      <td>5</td>\n",
       "      <td>3</td>\n",
       "      <td>...</td>\n",
       "      <td>NaN</td>\n",
       "      <td>NaN</td>\n",
       "      <td>NaN</td>\n",
       "      <td>NaN</td>\n",
       "      <td>NaN</td>\n",
       "      <td>NaN</td>\n",
       "      <td>NaN</td>\n",
       "      <td>NaN</td>\n",
       "      <td>NaN</td>\n",
       "      <td>NaN</td>\n",
       "    </tr>\n",
       "    <tr>\n",
       "      <th>1</th>\n",
       "      <td>-1</td>\n",
       "      <td>1</td>\n",
       "      <td>2</td>\n",
       "      <td>5.0</td>\n",
       "      <td>1</td>\n",
       "      <td>5</td>\n",
       "      <td>2</td>\n",
       "      <td>5</td>\n",
       "      <td>4</td>\n",
       "      <td>5</td>\n",
       "      <td>...</td>\n",
       "      <td>2.0</td>\n",
       "      <td>3.0</td>\n",
       "      <td>2.0</td>\n",
       "      <td>1.0</td>\n",
       "      <td>1.0</td>\n",
       "      <td>5.0</td>\n",
       "      <td>4.0</td>\n",
       "      <td>3.0</td>\n",
       "      <td>5.0</td>\n",
       "      <td>4.0</td>\n",
       "    </tr>\n",
       "    <tr>\n",
       "      <th>2</th>\n",
       "      <td>-1</td>\n",
       "      <td>3</td>\n",
       "      <td>2</td>\n",
       "      <td>3.0</td>\n",
       "      <td>1</td>\n",
       "      <td>4</td>\n",
       "      <td>1</td>\n",
       "      <td>2</td>\n",
       "      <td>3</td>\n",
       "      <td>5</td>\n",
       "      <td>...</td>\n",
       "      <td>3.0</td>\n",
       "      <td>3.0</td>\n",
       "      <td>1.0</td>\n",
       "      <td>0.0</td>\n",
       "      <td>1.0</td>\n",
       "      <td>4.0</td>\n",
       "      <td>4.0</td>\n",
       "      <td>3.0</td>\n",
       "      <td>5.0</td>\n",
       "      <td>2.0</td>\n",
       "    </tr>\n",
       "    <tr>\n",
       "      <th>3</th>\n",
       "      <td>2</td>\n",
       "      <td>4</td>\n",
       "      <td>2</td>\n",
       "      <td>2.0</td>\n",
       "      <td>4</td>\n",
       "      <td>2</td>\n",
       "      <td>5</td>\n",
       "      <td>2</td>\n",
       "      <td>1</td>\n",
       "      <td>2</td>\n",
       "      <td>...</td>\n",
       "      <td>2.0</td>\n",
       "      <td>2.0</td>\n",
       "      <td>2.0</td>\n",
       "      <td>0.0</td>\n",
       "      <td>1.0</td>\n",
       "      <td>3.0</td>\n",
       "      <td>4.0</td>\n",
       "      <td>2.0</td>\n",
       "      <td>3.0</td>\n",
       "      <td>3.0</td>\n",
       "    </tr>\n",
       "    <tr>\n",
       "      <th>4</th>\n",
       "      <td>-1</td>\n",
       "      <td>3</td>\n",
       "      <td>1</td>\n",
       "      <td>5.0</td>\n",
       "      <td>4</td>\n",
       "      <td>3</td>\n",
       "      <td>4</td>\n",
       "      <td>1</td>\n",
       "      <td>3</td>\n",
       "      <td>2</td>\n",
       "      <td>...</td>\n",
       "      <td>2.0</td>\n",
       "      <td>4.0</td>\n",
       "      <td>2.0</td>\n",
       "      <td>1.0</td>\n",
       "      <td>2.0</td>\n",
       "      <td>3.0</td>\n",
       "      <td>3.0</td>\n",
       "      <td>4.0</td>\n",
       "      <td>6.0</td>\n",
       "      <td>5.0</td>\n",
       "    </tr>\n",
       "    <tr>\n",
       "      <th>5</th>\n",
       "      <td>3</td>\n",
       "      <td>1</td>\n",
       "      <td>2</td>\n",
       "      <td>2.0</td>\n",
       "      <td>3</td>\n",
       "      <td>1</td>\n",
       "      <td>5</td>\n",
       "      <td>2</td>\n",
       "      <td>2</td>\n",
       "      <td>5</td>\n",
       "      <td>...</td>\n",
       "      <td>2.0</td>\n",
       "      <td>3.0</td>\n",
       "      <td>1.0</td>\n",
       "      <td>1.0</td>\n",
       "      <td>1.0</td>\n",
       "      <td>5.0</td>\n",
       "      <td>5.0</td>\n",
       "      <td>2.0</td>\n",
       "      <td>3.0</td>\n",
       "      <td>3.0</td>\n",
       "    </tr>\n",
       "    <tr>\n",
       "      <th>6</th>\n",
       "      <td>-1</td>\n",
       "      <td>2</td>\n",
       "      <td>2</td>\n",
       "      <td>5.0</td>\n",
       "      <td>1</td>\n",
       "      <td>5</td>\n",
       "      <td>1</td>\n",
       "      <td>5</td>\n",
       "      <td>4</td>\n",
       "      <td>3</td>\n",
       "      <td>...</td>\n",
       "      <td>3.0</td>\n",
       "      <td>3.0</td>\n",
       "      <td>1.0</td>\n",
       "      <td>0.0</td>\n",
       "      <td>1.0</td>\n",
       "      <td>5.0</td>\n",
       "      <td>5.0</td>\n",
       "      <td>4.0</td>\n",
       "      <td>6.0</td>\n",
       "      <td>3.0</td>\n",
       "    </tr>\n",
       "    <tr>\n",
       "      <th>7</th>\n",
       "      <td>-1</td>\n",
       "      <td>1</td>\n",
       "      <td>1</td>\n",
       "      <td>3.0</td>\n",
       "      <td>3</td>\n",
       "      <td>3</td>\n",
       "      <td>4</td>\n",
       "      <td>1</td>\n",
       "      <td>3</td>\n",
       "      <td>2</td>\n",
       "      <td>...</td>\n",
       "      <td>3.0</td>\n",
       "      <td>3.0</td>\n",
       "      <td>1.0</td>\n",
       "      <td>0.0</td>\n",
       "      <td>1.0</td>\n",
       "      <td>4.0</td>\n",
       "      <td>4.0</td>\n",
       "      <td>2.0</td>\n",
       "      <td>5.0</td>\n",
       "      <td>2.0</td>\n",
       "    </tr>\n",
       "    <tr>\n",
       "      <th>8</th>\n",
       "      <td>-1</td>\n",
       "      <td>3</td>\n",
       "      <td>1</td>\n",
       "      <td>3.0</td>\n",
       "      <td>4</td>\n",
       "      <td>4</td>\n",
       "      <td>2</td>\n",
       "      <td>4</td>\n",
       "      <td>2</td>\n",
       "      <td>2</td>\n",
       "      <td>...</td>\n",
       "      <td>2.0</td>\n",
       "      <td>3.0</td>\n",
       "      <td>2.0</td>\n",
       "      <td>1.0</td>\n",
       "      <td>1.0</td>\n",
       "      <td>3.0</td>\n",
       "      <td>3.0</td>\n",
       "      <td>2.0</td>\n",
       "      <td>4.0</td>\n",
       "      <td>3.0</td>\n",
       "    </tr>\n",
       "    <tr>\n",
       "      <th>9</th>\n",
       "      <td>-1</td>\n",
       "      <td>3</td>\n",
       "      <td>2</td>\n",
       "      <td>4.0</td>\n",
       "      <td>2</td>\n",
       "      <td>4</td>\n",
       "      <td>2</td>\n",
       "      <td>3</td>\n",
       "      <td>5</td>\n",
       "      <td>4</td>\n",
       "      <td>...</td>\n",
       "      <td>2.0</td>\n",
       "      <td>3.0</td>\n",
       "      <td>2.0</td>\n",
       "      <td>1.0</td>\n",
       "      <td>1.0</td>\n",
       "      <td>3.0</td>\n",
       "      <td>3.0</td>\n",
       "      <td>2.0</td>\n",
       "      <td>3.0</td>\n",
       "      <td>1.0</td>\n",
       "    </tr>\n",
       "  </tbody>\n",
       "</table>\n",
       "<p>10 rows × 85 columns</p>\n",
       "</div>"
      ],
      "text/plain": [
       "   AGER_TYP  ALTERSKATEGORIE_GROB  ANREDE_KZ  CJT_GESAMTTYP  \\\n",
       "0        -1                     2          1            2.0   \n",
       "1        -1                     1          2            5.0   \n",
       "2        -1                     3          2            3.0   \n",
       "3         2                     4          2            2.0   \n",
       "4        -1                     3          1            5.0   \n",
       "5         3                     1          2            2.0   \n",
       "6        -1                     2          2            5.0   \n",
       "7        -1                     1          1            3.0   \n",
       "8        -1                     3          1            3.0   \n",
       "9        -1                     3          2            4.0   \n",
       "\n",
       "   FINANZ_MINIMALIST  FINANZ_SPARER  FINANZ_VORSORGER  FINANZ_ANLEGER  \\\n",
       "0                  3              4                 3               5   \n",
       "1                  1              5                 2               5   \n",
       "2                  1              4                 1               2   \n",
       "3                  4              2                 5               2   \n",
       "4                  4              3                 4               1   \n",
       "5                  3              1                 5               2   \n",
       "6                  1              5                 1               5   \n",
       "7                  3              3                 4               1   \n",
       "8                  4              4                 2               4   \n",
       "9                  2              4                 2               3   \n",
       "\n",
       "   FINANZ_UNAUFFAELLIGER  FINANZ_HAUSBAUER    ...     PLZ8_ANTG1  PLZ8_ANTG2  \\\n",
       "0                      5                 3    ...            NaN         NaN   \n",
       "1                      4                 5    ...            2.0         3.0   \n",
       "2                      3                 5    ...            3.0         3.0   \n",
       "3                      1                 2    ...            2.0         2.0   \n",
       "4                      3                 2    ...            2.0         4.0   \n",
       "5                      2                 5    ...            2.0         3.0   \n",
       "6                      4                 3    ...            3.0         3.0   \n",
       "7                      3                 2    ...            3.0         3.0   \n",
       "8                      2                 2    ...            2.0         3.0   \n",
       "9                      5                 4    ...            2.0         3.0   \n",
       "\n",
       "   PLZ8_ANTG3  PLZ8_ANTG4  PLZ8_BAUMAX  PLZ8_HHZ  PLZ8_GBZ  ARBEIT  \\\n",
       "0         NaN         NaN          NaN       NaN       NaN     NaN   \n",
       "1         2.0         1.0          1.0       5.0       4.0     3.0   \n",
       "2         1.0         0.0          1.0       4.0       4.0     3.0   \n",
       "3         2.0         0.0          1.0       3.0       4.0     2.0   \n",
       "4         2.0         1.0          2.0       3.0       3.0     4.0   \n",
       "5         1.0         1.0          1.0       5.0       5.0     2.0   \n",
       "6         1.0         0.0          1.0       5.0       5.0     4.0   \n",
       "7         1.0         0.0          1.0       4.0       4.0     2.0   \n",
       "8         2.0         1.0          1.0       3.0       3.0     2.0   \n",
       "9         2.0         1.0          1.0       3.0       3.0     2.0   \n",
       "\n",
       "   ORTSGR_KLS9  RELAT_AB  \n",
       "0          NaN       NaN  \n",
       "1          5.0       4.0  \n",
       "2          5.0       2.0  \n",
       "3          3.0       3.0  \n",
       "4          6.0       5.0  \n",
       "5          3.0       3.0  \n",
       "6          6.0       3.0  \n",
       "7          5.0       2.0  \n",
       "8          4.0       3.0  \n",
       "9          3.0       1.0  \n",
       "\n",
       "[10 rows x 85 columns]"
      ]
     },
     "execution_count": 5,
     "metadata": {},
     "output_type": "execute_result"
    }
   ],
   "source": [
    "azdias.head(10)"
   ]
  },
  {
   "cell_type": "code",
   "execution_count": 6,
   "metadata": {},
   "outputs": [
    {
     "data": {
      "text/html": [
       "<div>\n",
       "<style scoped>\n",
       "    .dataframe tbody tr th:only-of-type {\n",
       "        vertical-align: middle;\n",
       "    }\n",
       "\n",
       "    .dataframe tbody tr th {\n",
       "        vertical-align: top;\n",
       "    }\n",
       "\n",
       "    .dataframe thead th {\n",
       "        text-align: right;\n",
       "    }\n",
       "</style>\n",
       "<table border=\"1\" class=\"dataframe\">\n",
       "  <thead>\n",
       "    <tr style=\"text-align: right;\">\n",
       "      <th></th>\n",
       "      <th>attribute</th>\n",
       "      <th>information_level</th>\n",
       "      <th>type</th>\n",
       "      <th>missing_or_unknown</th>\n",
       "    </tr>\n",
       "  </thead>\n",
       "  <tbody>\n",
       "    <tr>\n",
       "      <th>0</th>\n",
       "      <td>AGER_TYP</td>\n",
       "      <td>person</td>\n",
       "      <td>categorical</td>\n",
       "      <td>[-1,0]</td>\n",
       "    </tr>\n",
       "    <tr>\n",
       "      <th>1</th>\n",
       "      <td>ALTERSKATEGORIE_GROB</td>\n",
       "      <td>person</td>\n",
       "      <td>ordinal</td>\n",
       "      <td>[-1,0,9]</td>\n",
       "    </tr>\n",
       "    <tr>\n",
       "      <th>2</th>\n",
       "      <td>ANREDE_KZ</td>\n",
       "      <td>person</td>\n",
       "      <td>categorical</td>\n",
       "      <td>[-1,0]</td>\n",
       "    </tr>\n",
       "    <tr>\n",
       "      <th>3</th>\n",
       "      <td>CJT_GESAMTTYP</td>\n",
       "      <td>person</td>\n",
       "      <td>categorical</td>\n",
       "      <td>[0]</td>\n",
       "    </tr>\n",
       "    <tr>\n",
       "      <th>4</th>\n",
       "      <td>FINANZ_MINIMALIST</td>\n",
       "      <td>person</td>\n",
       "      <td>ordinal</td>\n",
       "      <td>[-1]</td>\n",
       "    </tr>\n",
       "    <tr>\n",
       "      <th>5</th>\n",
       "      <td>FINANZ_SPARER</td>\n",
       "      <td>person</td>\n",
       "      <td>ordinal</td>\n",
       "      <td>[-1]</td>\n",
       "    </tr>\n",
       "    <tr>\n",
       "      <th>6</th>\n",
       "      <td>FINANZ_VORSORGER</td>\n",
       "      <td>person</td>\n",
       "      <td>ordinal</td>\n",
       "      <td>[-1]</td>\n",
       "    </tr>\n",
       "    <tr>\n",
       "      <th>7</th>\n",
       "      <td>FINANZ_ANLEGER</td>\n",
       "      <td>person</td>\n",
       "      <td>ordinal</td>\n",
       "      <td>[-1]</td>\n",
       "    </tr>\n",
       "    <tr>\n",
       "      <th>8</th>\n",
       "      <td>FINANZ_UNAUFFAELLIGER</td>\n",
       "      <td>person</td>\n",
       "      <td>ordinal</td>\n",
       "      <td>[-1]</td>\n",
       "    </tr>\n",
       "    <tr>\n",
       "      <th>9</th>\n",
       "      <td>FINANZ_HAUSBAUER</td>\n",
       "      <td>person</td>\n",
       "      <td>ordinal</td>\n",
       "      <td>[-1]</td>\n",
       "    </tr>\n",
       "  </tbody>\n",
       "</table>\n",
       "</div>"
      ],
      "text/plain": [
       "               attribute information_level         type missing_or_unknown\n",
       "0               AGER_TYP            person  categorical             [-1,0]\n",
       "1   ALTERSKATEGORIE_GROB            person      ordinal           [-1,0,9]\n",
       "2              ANREDE_KZ            person  categorical             [-1,0]\n",
       "3          CJT_GESAMTTYP            person  categorical                [0]\n",
       "4      FINANZ_MINIMALIST            person      ordinal               [-1]\n",
       "5          FINANZ_SPARER            person      ordinal               [-1]\n",
       "6       FINANZ_VORSORGER            person      ordinal               [-1]\n",
       "7         FINANZ_ANLEGER            person      ordinal               [-1]\n",
       "8  FINANZ_UNAUFFAELLIGER            person      ordinal               [-1]\n",
       "9       FINANZ_HAUSBAUER            person      ordinal               [-1]"
      ]
     },
     "execution_count": 6,
     "metadata": {},
     "output_type": "execute_result"
    }
   ],
   "source": [
    "feat_info.head(10)"
   ]
  },
  {
   "cell_type": "markdown",
   "metadata": {},
   "source": [
    "> **Tip**: Add additional cells to keep everything in reasonably-sized chunks! Keyboard shortcut `esc --> a` (press escape to enter command mode, then press the 'A' key) adds a new cell before the active cell, and `esc --> b` adds a new cell after the active cell. If you need to convert an active cell to a markdown cell, use `esc --> m` and to convert to a code cell, use `esc --> y`. \n",
    "\n",
    "## Step 1: Preprocessing\n",
    "\n",
    "### Step 1.1: Assess Missing Data\n",
    "\n",
    "The feature summary file contains a summary of properties for each demographics data column. You will use this file to help you make cleaning decisions during this stage of the project. First of all, you should assess the demographics data in terms of missing data. Pay attention to the following points as you perform your analysis, and take notes on what you observe. Make sure that you fill in the **Discussion** cell with your findings and decisions at the end of each step that has one!\n",
    "\n",
    "#### Step 1.1.1: Convert Missing Value Codes to NaNs\n",
    "The fourth column of the feature attributes summary (loaded in above as `feat_info`) documents the codes from the data dictionary that indicate missing or unknown data. While the file encodes this as a list (e.g. `[-1,0]`), this will get read in as a string object. You'll need to do a little bit of parsing to make use of it to identify and clean the data. Convert data that matches a 'missing' or 'unknown' value code into a numpy NaN value. You might want to see how much data takes on a 'missing' or 'unknown' code, and how much data is naturally missing, as a point of interest.\n",
    "\n",
    "**As one more reminder, you are encouraged to add additional cells to break up your analysis into manageable chunks.**"
   ]
  },
  {
   "cell_type": "code",
   "execution_count": 7,
   "metadata": {},
   "outputs": [
    {
     "data": {
      "text/plain": [
       "4896838"
      ]
     },
     "execution_count": 7,
     "metadata": {},
     "output_type": "execute_result"
    }
   ],
   "source": [
    "#all null values before replacing missing and unknown values\n",
    "azdias.isnull().sum().sum()"
   ]
  },
  {
   "cell_type": "code",
   "execution_count": 8,
   "metadata": {},
   "outputs": [
    {
     "data": {
      "text/plain": [
       "array(['[-1,0]', '[-1,0,9]', '[0]', '[-1]', '[]', '[-1,9]', '[-1,X]',\n",
       "       '[XX]', '[-1,XX]'], dtype=object)"
      ]
     },
     "execution_count": 8,
     "metadata": {},
     "output_type": "execute_result"
    }
   ],
   "source": [
    "# All unique values in the missing_or_unknown column\n",
    "feat_info.missing_or_unknown.unique()"
   ]
  },
  {
   "cell_type": "markdown",
   "metadata": {},
   "source": [
    "Besides Integers the column contains 'X' , 'XX' , ''"
   ]
  },
  {
   "cell_type": "code",
   "execution_count": 9,
   "metadata": {},
   "outputs": [
    {
     "data": {
      "text/plain": [
       "array(['[-1,0]', '[-1,0,9]', '[0]', '[-1]', nan, '[-1,9]', '[-1,X]',\n",
       "       '[XX]', '[-1,XX]'], dtype=object)"
      ]
     },
     "execution_count": 9,
     "metadata": {},
     "output_type": "execute_result"
    }
   ],
   "source": [
    "feat_info.missing_or_unknown.replace({'[]':np.NaN},inplace=True)\n",
    "feat_info.missing_or_unknown.unique()"
   ]
  },
  {
   "cell_type": "code",
   "execution_count": 10,
   "metadata": {
    "scrolled": true
   },
   "outputs": [],
   "source": [
    "# Identify missing or unknown data values and convert them to NaNs.\n",
    "\n",
    "#converting the string column to list of strings\n",
    "missing_or_unknown = feat_info.missing_or_unknown.str.strip('[]').str.split(',')"
   ]
  },
  {
   "cell_type": "code",
   "execution_count": 11,
   "metadata": {},
   "outputs": [],
   "source": [
    "for index,attribute in enumerate(feat_info.attribute):\n",
    "    values_to_be_replaced = missing_or_unknown[index]\n",
    "    if values_to_be_replaced is not np.NaN :\n",
    "        missing_values = [x if x in ['X','XX'] else int(x) for x in values_to_be_replaced]\n",
    "        azdias[attribute].replace(missing_values, np.NaN, inplace=True)\n",
    "    "
   ]
  },
  {
   "cell_type": "code",
   "execution_count": 12,
   "metadata": {},
   "outputs": [
    {
     "data": {
      "text/plain": [
       "8373929"
      ]
     },
     "execution_count": 12,
     "metadata": {},
     "output_type": "execute_result"
    }
   ],
   "source": [
    "#all null values after replacing missing and unknown values\n",
    "azdias.isnull().sum().sum()"
   ]
  },
  {
   "cell_type": "markdown",
   "metadata": {},
   "source": [
    "#### Step 1.1.2: Assess Missing Data in Each Column\n",
    "\n",
    "How much missing data is present in each column? There are a few columns that are outliers in terms of the proportion of values that are missing. You will want to use matplotlib's [`hist()`](https://matplotlib.org/api/_as_gen/matplotlib.pyplot.hist.html) function to visualize the distribution of missing value counts to find these columns. Identify and document these columns. While some of these columns might have justifications for keeping or re-encoding the data, for this project you should just remove them from the dataframe. (Feel free to make remarks about these outlier columns in the discussion, however!)\n",
    "\n",
    "For the remaining features, are there any patterns in which columns have, or share, missing data?"
   ]
  },
  {
   "cell_type": "code",
   "execution_count": 13,
   "metadata": {},
   "outputs": [
    {
     "data": {
      "text/plain": [
       "AGER_TYP                 685843\n",
       "ALTERSKATEGORIE_GROB       2881\n",
       "ANREDE_KZ                     0\n",
       "CJT_GESAMTTYP              4854\n",
       "FINANZ_MINIMALIST             0\n",
       "FINANZ_SPARER                 0\n",
       "FINANZ_VORSORGER              0\n",
       "FINANZ_ANLEGER                0\n",
       "FINANZ_UNAUFFAELLIGER         0\n",
       "FINANZ_HAUSBAUER              0\n",
       "FINANZTYP                     0\n",
       "GEBURTSJAHR              392318\n",
       "GFK_URLAUBERTYP            4854\n",
       "GREEN_AVANTGARDE              0\n",
       "HEALTH_TYP               111196\n",
       "LP_LEBENSPHASE_FEIN       97632\n",
       "LP_LEBENSPHASE_GROB       94572\n",
       "LP_FAMILIE_FEIN           77792\n",
       "LP_FAMILIE_GROB           77792\n",
       "LP_STATUS_FEIN             4854\n",
       "LP_STATUS_GROB             4854\n",
       "NATIONALITAET_KZ         108315\n",
       "PRAEGENDE_JUGENDJAHRE    108164\n",
       "RETOURTYP_BK_S             4854\n",
       "SEMIO_SOZ                     0\n",
       "SEMIO_FAM                     0\n",
       "SEMIO_REL                     0\n",
       "SEMIO_MAT                     0\n",
       "SEMIO_VERT                    0\n",
       "SEMIO_LUST                    0\n",
       "                          ...  \n",
       "OST_WEST_KZ               93148\n",
       "WOHNLAGE                  93148\n",
       "CAMEO_DEUG_2015           99352\n",
       "CAMEO_DEU_2015            99352\n",
       "CAMEO_INTL_2015           99352\n",
       "KBA05_ANTG1              133324\n",
       "KBA05_ANTG2              133324\n",
       "KBA05_ANTG3              133324\n",
       "KBA05_ANTG4              133324\n",
       "KBA05_BAUMAX             476524\n",
       "KBA05_GBZ                133324\n",
       "BALLRAUM                  93740\n",
       "EWDICHTE                  93740\n",
       "INNENSTADT                93740\n",
       "GEBAEUDETYP_RASTER        93155\n",
       "KKK                      158064\n",
       "MOBI_REGIO               133324\n",
       "ONLINE_AFFINITAET          4854\n",
       "REGIOTYP                 158064\n",
       "KBA13_ANZAHL_PKW         105800\n",
       "PLZ8_ANTG1               116515\n",
       "PLZ8_ANTG2               116515\n",
       "PLZ8_ANTG3               116515\n",
       "PLZ8_ANTG4               116515\n",
       "PLZ8_BAUMAX              116515\n",
       "PLZ8_HHZ                 116515\n",
       "PLZ8_GBZ                 116515\n",
       "ARBEIT                    97375\n",
       "ORTSGR_KLS9               97274\n",
       "RELAT_AB                  97375\n",
       "Length: 85, dtype: int64"
      ]
     },
     "execution_count": 13,
     "metadata": {},
     "output_type": "execute_result"
    }
   ],
   "source": [
    "# Perform an assessment of how much missing data there is in each column of the\n",
    "# dataset.\n",
    "columns_with_nan_values = azdias.isnull().sum()\n",
    "columns_with_nan_values"
   ]
  },
  {
   "cell_type": "code",
   "execution_count": 14,
   "metadata": {},
   "outputs": [
    {
     "data": {
      "image/png": "[encoded data removed]",
      "text/plain": [
       "<matplotlib.figure.Figure at 0x7fe27108a7b8>"
      ]
     },
     "metadata": {
      "needs_background": "light"
     },
     "output_type": "display_data"
    }
   ],
   "source": [
    "# Investigate patterns in the amount of missing data in each column.\n",
    "plt.figure(figsize=(10,6))\n",
    "plt.hist(columns_with_nan_values,orientation='horizontal',bins=30)\n",
    "plt.show();"
   ]
  },
  {
   "cell_type": "code",
   "execution_count": 15,
   "metadata": {},
   "outputs": [
    {
     "data": {
      "image/png": "[encoded data removed]",
      "text/plain": [
       "<matplotlib.figure.Figure at 0x7fe27107db38>"
      ]
     },
     "metadata": {
      "needs_background": "light"
     },
     "output_type": "display_data"
    }
   ],
   "source": [
    "plt.figure(figsize=(10,6))\n",
    "plt.hist(azdias.isnull().mean(),orientation='horizontal',bins=30)\n",
    "plt.show();"
   ]
  },
  {
   "cell_type": "markdown",
   "metadata": {},
   "source": [
    "Most of the columns with nan values have less than 200000 nan values as 20% of all values in each column while other columns have outliers more than 200000 missing values"
   ]
  },
  {
   "cell_type": "code",
   "execution_count": 16,
   "metadata": {},
   "outputs": [
    {
     "data": {
      "text/plain": [
       "Index(['AGER_TYP', 'GEBURTSJAHR', 'TITEL_KZ', 'ALTER_HH', 'KK_KUNDENTYP',\n",
       "       'KBA05_BAUMAX'],\n",
       "      dtype='object')"
      ]
     },
     "execution_count": 16,
     "metadata": {},
     "output_type": "execute_result"
    }
   ],
   "source": [
    "attributes_to_be_removed = azdias.loc[:,azdias.isnull().sum() > 200000].columns\n",
    "attributes_to_be_removed"
   ]
  },
  {
   "cell_type": "code",
   "execution_count": 17,
   "metadata": {},
   "outputs": [
    {
     "data": {
      "text/plain": [
       "(891221, 79)"
      ]
     },
     "execution_count": 17,
     "metadata": {},
     "output_type": "execute_result"
    }
   ],
   "source": [
    "# Remove the outlier columns from the dataset. (You'll perform other data\n",
    "# engineering tasks such as re-encoding and imputation later.)\n",
    "\n",
    "azdias = azdias.loc[:,azdias.isnull().sum() < 200000]\n",
    "azdias.shape"
   ]
  },
  {
   "cell_type": "code",
   "execution_count": 18,
   "metadata": {},
   "outputs": [
    {
     "data": {
      "image/png": "[encoded data removed]",
      "text/plain": [
       "<matplotlib.figure.Figure at 0x7fe2710af9b0>"
      ]
     },
     "metadata": {
      "needs_background": "light"
     },
     "output_type": "display_data"
    }
   ],
   "source": [
    "plt.figure(figsize=(10,6))\n",
    "plt.hist(azdias.isnull().sum(),orientation='horizontal',bins=30)\n",
    "plt.show();"
   ]
  },
  {
   "cell_type": "markdown",
   "metadata": {},
   "source": [
    "#### Discussion 1.1.2: Assess Missing Data in Each Column\n",
    "After plotting the histogram, it shows that most columns have missing values less than 200000 (20% of all values for each column), while there are only 6 columns with nan values greater than that, so we filtered the dataframe to drop the columns with missing values greater than 200000."
   ]
  },
  {
   "cell_type": "markdown",
   "metadata": {},
   "source": [
    "#### Step 1.1.3: Assess Missing Data in Each Row\n",
    "\n",
    "Now, you'll perform a similar assessment for the rows of the dataset. How much data is missing in each row? As with the columns, you should see some groups of points that have a very different numbers of missing values. Divide the data into two subsets: one for data points that are above some threshold for missing values, and a second subset for points below that threshold.\n",
    "\n",
    "In order to know what to do with the outlier rows, we should see if the distribution of data values on columns that are not missing data (or are missing very little data) are similar or different between the two groups. Select at least five of these columns and compare the distribution of values.\n",
    "- You can use seaborn's [`countplot()`](https://seaborn.pydata.org/generated/seaborn.countplot.html) function to create a bar chart of code frequencies and matplotlib's [`subplot()`](https://matplotlib.org/api/_as_gen/matplotlib.pyplot.subplot.html) function to put bar charts for the two subplots side by side.\n",
    "- To reduce repeated code, you might want to write a function that can perform this comparison, taking as one of its arguments a column to be compared.\n",
    "\n",
    "Depending on what you observe in your comparison, this will have implications on how you approach your conclusions later in the analysis. If the distributions of non-missing features look similar between the data with many missing values and the data with few or no missing values, then we could argue that simply dropping those points from the analysis won't present a major issue. On the other hand, if the data with many missing values looks very different from the data with few or no missing values, then we should make a note on those data as special. We'll revisit these data later on. **Either way, you should continue your analysis for now using just the subset of the data with few or no missing values.**"
   ]
  },
  {
   "cell_type": "code",
   "execution_count": 19,
   "metadata": {},
   "outputs": [
    {
     "data": {
      "image/png": "[encoded data removed]",
      "text/plain": [
       "<matplotlib.figure.Figure at 0x7fe2710a72e8>"
      ]
     },
     "metadata": {
      "needs_background": "light"
     },
     "output_type": "display_data"
    }
   ],
   "source": [
    "# How much data is missing in each row of the dataset?\n",
    "missing_values_rows = azdias.isnull().sum(axis=1)\n",
    "plt.figure(figsize=(10,6))\n",
    "missing_values_rows.hist(bins=25);"
   ]
  },
  {
   "cell_type": "code",
   "execution_count": 20,
   "metadata": {},
   "outputs": [],
   "source": [
    "# Write code to divide the data into two subsets based on the number of missing\n",
    "# values in each row.\n",
    "data1 = azdias.loc[azdias.isnull().sum(axis=1) <= 25,:]\n",
    "data2 = azdias.loc[azdias.isnull().sum(axis=1) > 25,:]"
   ]
  },
  {
   "cell_type": "code",
   "execution_count": 21,
   "metadata": {},
   "outputs": [],
   "source": [
    "# Compare the distribution of values for at least five columns where there are\n",
    "# no or few missing values, between the two subsets.\n",
    "def compare_distribution(column):\n",
    "    fig, axes = plt.subplots(1, 2,figsize=(14,6))\n",
    "    \n",
    "    fig.suptitle(f'Compare two distributions of {column} based on missing values')\n",
    "    \n",
    "    sns.countplot(x = column,data = data1 , ax = axes[0])\n",
    "    axes[0].set_title('Data with little missing values')\n",
    "    sns.countplot(x = column,data = data2 , ax = axes[1])\n",
    "    axes[1].set_title('Data with many missing values')\n"
   ]
  },
  {
   "cell_type": "code",
   "execution_count": 22,
   "metadata": {},
   "outputs": [
    {
     "data": {
      "image/png": "[encoded data removed]",
      "text/plain": [
       "<matplotlib.figure.Figure at 0x7fe26ee5ce10>"
      ]
     },
     "metadata": {
      "needs_background": "light"
     },
     "output_type": "display_data"
    },
    {
     "data": {
      "image/png": "[encoded data removed]",
      "text/plain": [
       "<matplotlib.figure.Figure at 0x7fe26edfb128>"
      ]
     },
     "metadata": {
      "needs_background": "light"
     },
     "output_type": "display_data"
    },
    {
     "data": {
      "image/png": "[encoded data removed]",
      "text/plain": [
       "<matplotlib.figure.Figure at 0x7fe265af3e80>"
      ]
     },
     "metadata": {
      "needs_background": "light"
     },
     "output_type": "display_data"
    },
    {
     "data": {
      "image/png": "[encoded data removed]",
      "text/plain": [
       "<matplotlib.figure.Figure at 0x7fe265ae9eb8>"
      ]
     },
     "metadata": {
      "needs_background": "light"
     },
     "output_type": "display_data"
    },
    {
     "data": {
      "image/png": "[encoded data removed]",
      "text/plain": [
       "<matplotlib.figure.Figure at 0x7fe265983668>"
      ]
     },
     "metadata": {
      "needs_background": "light"
     },
     "output_type": "display_data"
    }
   ],
   "source": [
    "columns= azdias.columns[0:5]\n",
    "\n",
    "for column in columns:\n",
    "    compare_distribution(column)"
   ]
  },
  {
   "cell_type": "markdown",
   "metadata": {},
   "source": [
    "#### Discussion 1.1.3: Assess Missing Data in Each Row\n",
    "\n",
    "As we can see in the fisrt two columns ALTERSKATEGORIE_GROB and ANREDE_KZ there are no much difference, while in the other columns CJT_GESAMTTYP ,FINANZ_MINIMALIST ,FINANZ_SPARER there are obvious difference in distribution as in count of values"
   ]
  },
  {
   "cell_type": "markdown",
   "metadata": {},
   "source": [
    "### Step 1.2: Select and Re-Encode Features\n",
    "\n",
    "Checking for missing data isn't the only way in which you can prepare a dataset for analysis. Since the unsupervised learning techniques to be used will only work on data that is encoded numerically, you need to make a few encoding changes or additional assumptions to be able to make progress. In addition, while almost all of the values in the dataset are encoded using numbers, not all of them represent numeric values. Check the third column of the feature summary (`feat_info`) for a summary of types of measurement.\n",
    "- For numeric and interval data, these features can be kept without changes.\n",
    "- Most of the variables in the dataset are ordinal in nature. While ordinal values may technically be non-linear in spacing, make the simplifying assumption that the ordinal variables can be treated as being interval in nature (that is, kept without any changes).\n",
    "- Special handling may be necessary for the remaining two variable types: categorical, and 'mixed'.\n",
    "\n",
    "In the first two parts of this sub-step, you will perform an investigation of the categorical and mixed-type features and make a decision on each of them, whether you will keep, drop, or re-encode each. Then, in the last part, you will create a new data frame with only the selected and engineered columns.\n",
    "\n",
    "Data wrangling is often the trickiest part of the data analysis process, and there's a lot of it to be done here. But stick with it: once you're done with this step, you'll be ready to get to the machine learning parts of the project!"
   ]
  },
  {
   "cell_type": "code",
   "execution_count": 23,
   "metadata": {},
   "outputs": [
    {
     "data": {
      "text/plain": [
       "type\n",
       "categorical    21\n",
       "interval        1\n",
       "mixed           7\n",
       "numeric         7\n",
       "ordinal        49\n",
       "Name: attribute, dtype: int64"
      ]
     },
     "execution_count": 23,
     "metadata": {},
     "output_type": "execute_result"
    }
   ],
   "source": [
    "# How many features are there of each data type?\n",
    "feat_info.groupby('type')['attribute'].count()"
   ]
  },
  {
   "cell_type": "markdown",
   "metadata": {},
   "source": [
    "#### Step 1.2.1: Re-Encode Categorical Features\n",
    "\n",
    "For categorical data, you would ordinarily need to encode the levels as dummy variables. Depending on the number of categories, perform one of the following:\n",
    "- For binary (two-level) categoricals that take numeric values, you can keep them without needing to do anything.\n",
    "- There is one binary variable that takes on non-numeric values. For this one, you need to re-encode the values as numbers or create a dummy variable.\n",
    "- For multi-level categoricals (three or more values), you can choose to encode the values using multiple dummy variables (e.g. via [OneHotEncoder](http://scikit-learn.org/stable/modules/generated/sklearn.preprocessing.OneHotEncoder.html)), or (to keep things straightforward) just drop them from the analysis. As always, document your choices in the Discussion section."
   ]
  },
  {
   "cell_type": "code",
   "execution_count": 24,
   "metadata": {},
   "outputs": [
    {
     "data": {
      "text/plain": [
       "['AGER_TYP',\n",
       " 'ANREDE_KZ',\n",
       " 'CJT_GESAMTTYP',\n",
       " 'FINANZTYP',\n",
       " 'GFK_URLAUBERTYP',\n",
       " 'GREEN_AVANTGARDE',\n",
       " 'LP_FAMILIE_FEIN',\n",
       " 'LP_FAMILIE_GROB',\n",
       " 'LP_STATUS_FEIN',\n",
       " 'LP_STATUS_GROB',\n",
       " 'NATIONALITAET_KZ',\n",
       " 'SHOPPER_TYP',\n",
       " 'SOHO_KZ',\n",
       " 'TITEL_KZ',\n",
       " 'VERS_TYP',\n",
       " 'ZABEOTYP',\n",
       " 'KK_KUNDENTYP',\n",
       " 'GEBAEUDETYP',\n",
       " 'OST_WEST_KZ',\n",
       " 'CAMEO_DEUG_2015',\n",
       " 'CAMEO_DEU_2015']"
      ]
     },
     "execution_count": 24,
     "metadata": {},
     "output_type": "execute_result"
    }
   ],
   "source": [
    "# Assess categorical variables: which are binary, which are multi-level, and\n",
    "# which one needs to be re-encoded?\n",
    "cat_attributes = feat_info.loc[feat_info['type'] == 'categorical']['attribute'].values.tolist()\n",
    "cat_attributes"
   ]
  },
  {
   "cell_type": "code",
   "execution_count": 25,
   "metadata": {},
   "outputs": [
    {
     "data": {
      "text/plain": [
       "['ANREDE_KZ',\n",
       " 'CJT_GESAMTTYP',\n",
       " 'FINANZTYP',\n",
       " 'GFK_URLAUBERTYP',\n",
       " 'GREEN_AVANTGARDE',\n",
       " 'LP_FAMILIE_FEIN',\n",
       " 'LP_FAMILIE_GROB',\n",
       " 'LP_STATUS_FEIN',\n",
       " 'LP_STATUS_GROB',\n",
       " 'NATIONALITAET_KZ',\n",
       " 'SHOPPER_TYP',\n",
       " 'SOHO_KZ',\n",
       " 'VERS_TYP',\n",
       " 'ZABEOTYP',\n",
       " 'GEBAEUDETYP',\n",
       " 'OST_WEST_KZ',\n",
       " 'CAMEO_DEUG_2015',\n",
       " 'CAMEO_DEU_2015']"
      ]
     },
     "execution_count": 25,
     "metadata": {},
     "output_type": "execute_result"
    }
   ],
   "source": [
    "cat_attributes = list(filter(lambda x : x not in attributes_to_be_removed, cat_attributes))\n",
    "cat_attributes = list(filter(lambda x : x in data1.columns, cat_attributes))\n",
    "cat_attributes"
   ]
  },
  {
   "cell_type": "code",
   "execution_count": 26,
   "metadata": {},
   "outputs": [
    {
     "data": {
      "text/plain": [
       "(797961, 79)"
      ]
     },
     "execution_count": 26,
     "metadata": {},
     "output_type": "execute_result"
    }
   ],
   "source": [
    "data1.shape"
   ]
  },
  {
   "cell_type": "code",
   "execution_count": 27,
   "metadata": {},
   "outputs": [
    {
     "name": "stdout",
     "output_type": "stream",
     "text": [
      "ANREDE_KZ [2 1]\n",
      "CJT_GESAMTTYP [  5.   3.   2.   4.   1.   6.  nan]\n",
      "FINANZTYP [1 6 5 2 4 3]\n",
      "GFK_URLAUBERTYP [ 10.   1.   5.  12.   9.   3.   8.  11.   4.   2.   7.   6.  nan]\n",
      "GREEN_AVANTGARDE [0 1]\n",
      "LP_FAMILIE_FEIN [  5.   1.  nan  10.   2.   7.  11.   8.   4.   6.   9.   3.]\n",
      "LP_FAMILIE_GROB [  3.   1.  nan   5.   2.   4.]\n",
      "LP_STATUS_FEIN [  2.   3.   9.   4.   1.  10.   5.   8.   6.   7.  nan]\n",
      "LP_STATUS_GROB [  1.   2.   4.   5.   3.  nan]\n",
      "NATIONALITAET_KZ [  1.   3.   2.  nan]\n",
      "SHOPPER_TYP [  3.   2.   1.   0.  nan]\n",
      "SOHO_KZ [ 1.  0.]\n",
      "VERS_TYP [  2.   1.  nan]\n",
      "ZABEOTYP [5 3 4 1 6 2]\n",
      "GEBAEUDETYP [ 8.  1.  3.  2.  6.  4.  5.]\n",
      "OST_WEST_KZ ['W' 'O']\n",
      "CAMEO_DEUG_2015 ['8' '4' '2' '6' '1' '9' '5' '7' nan '3']\n",
      "CAMEO_DEU_2015 ['8A' '4C' '2A' '6B' '8C' '4A' '2D' '1A' '1E' '9D' '5C' '8B' '7A' '5D' '9E'\n",
      " nan '9B' '1B' '3D' '4E' '4B' '3C' '5A' '7B' '9A' '6D' '6E' '2C' '7C' '9C'\n",
      " '7D' '5E' '1D' '8D' '6C' '6A' '5B' '4D' '3A' '2B' '7E' '3B' '6F' '5F' '1C']\n"
     ]
    }
   ],
   "source": [
    "azdias = data1.copy()\n",
    "for column in cat_attributes:\n",
    "    print(column,azdias[column].unique())"
   ]
  },
  {
   "cell_type": "code",
   "execution_count": 28,
   "metadata": {},
   "outputs": [
    {
     "data": {
      "text/plain": [
       "['ANREDE_KZ', 'GREEN_AVANTGARDE', 'SOHO_KZ', 'VERS_TYP', 'OST_WEST_KZ']"
      ]
     },
     "metadata": {},
     "output_type": "display_data"
    },
    {
     "data": {
      "text/plain": [
       "['CJT_GESAMTTYP',\n",
       " 'FINANZTYP',\n",
       " 'GFK_URLAUBERTYP',\n",
       " 'LP_FAMILIE_FEIN',\n",
       " 'LP_FAMILIE_GROB',\n",
       " 'LP_STATUS_FEIN',\n",
       " 'LP_STATUS_GROB',\n",
       " 'NATIONALITAET_KZ',\n",
       " 'SHOPPER_TYP',\n",
       " 'ZABEOTYP',\n",
       " 'GEBAEUDETYP',\n",
       " 'CAMEO_DEUG_2015',\n",
       " 'CAMEO_DEU_2015']"
      ]
     },
     "metadata": {},
     "output_type": "display_data"
    }
   ],
   "source": [
    "binary_cat = []\n",
    "multi_cat = []\n",
    "for attribute in cat_attributes:\n",
    "    if azdias[attribute].nunique() > 2:\n",
    "        multi_cat.append(attribute)\n",
    "    else:\n",
    "        binary_cat.append(attribute)\n",
    "display(binary_cat,multi_cat)"
   ]
  },
  {
   "cell_type": "code",
   "execution_count": 29,
   "metadata": {},
   "outputs": [
    {
     "data": {
      "text/plain": [
       "'ANREDE_KZ'"
      ]
     },
     "metadata": {},
     "output_type": "display_data"
    },
    {
     "data": {
      "text/plain": [
       "array([2, 1])"
      ]
     },
     "metadata": {},
     "output_type": "display_data"
    },
    {
     "data": {
      "text/plain": [
       "'GREEN_AVANTGARDE'"
      ]
     },
     "metadata": {},
     "output_type": "display_data"
    },
    {
     "data": {
      "text/plain": [
       "array([0, 1])"
      ]
     },
     "metadata": {},
     "output_type": "display_data"
    },
    {
     "data": {
      "text/plain": [
       "'SOHO_KZ'"
      ]
     },
     "metadata": {},
     "output_type": "display_data"
    },
    {
     "data": {
      "text/plain": [
       "array([ 1.,  0.])"
      ]
     },
     "metadata": {},
     "output_type": "display_data"
    },
    {
     "data": {
      "text/plain": [
       "'VERS_TYP'"
      ]
     },
     "metadata": {},
     "output_type": "display_data"
    },
    {
     "data": {
      "text/plain": [
       "array([  2.,   1.,  nan])"
      ]
     },
     "metadata": {},
     "output_type": "display_data"
    },
    {
     "data": {
      "text/plain": [
       "'OST_WEST_KZ'"
      ]
     },
     "metadata": {},
     "output_type": "display_data"
    },
    {
     "data": {
      "text/plain": [
       "array(['W', 'O'], dtype=object)"
      ]
     },
     "metadata": {},
     "output_type": "display_data"
    }
   ],
   "source": [
    "#checking binary categories\n",
    "for attr in binary_cat:\n",
    "    display(attr , azdias[attr].unique())"
   ]
  },
  {
   "cell_type": "code",
   "execution_count": 30,
   "metadata": {},
   "outputs": [
    {
     "data": {
      "text/plain": [
       "array([0, 1])"
      ]
     },
     "execution_count": 30,
     "metadata": {},
     "output_type": "execute_result"
    }
   ],
   "source": [
    "#replacing non numeric values in binary category to numeric\n",
    "azdias['OST_WEST_KZ'].replace({'W': 0,'O':1},inplace=True)\n",
    "azdias['OST_WEST_KZ'].unique()"
   ]
  },
  {
   "cell_type": "code",
   "execution_count": 31,
   "metadata": {},
   "outputs": [],
   "source": [
    "#drop the CAMEO_DEU_2015 column for containing string values \n",
    "azdias.drop('CAMEO_DEU_2015',axis =1,inplace=True)\n",
    "multi_cat.remove('CAMEO_DEU_2015')"
   ]
  },
  {
   "cell_type": "code",
   "execution_count": 32,
   "metadata": {},
   "outputs": [],
   "source": [
    "multi_categories = multi_cat.copy()\n",
    "for column in multi_categories:\n",
    "    if azdias[column].isna().any():\n",
    "        azdias.drop(column,axis =1,inplace=True)\n",
    "        multi_cat.remove(column)"
   ]
  },
  {
   "cell_type": "code",
   "execution_count": 33,
   "metadata": {
    "scrolled": true
   },
   "outputs": [
    {
     "data": {
      "text/plain": [
       "['FINANZTYP', 'ZABEOTYP', 'GEBAEUDETYP']"
      ]
     },
     "execution_count": 33,
     "metadata": {},
     "output_type": "execute_result"
    }
   ],
   "source": [
    "multi_cat"
   ]
  },
  {
   "cell_type": "code",
   "execution_count": 34,
   "metadata": {
    "scrolled": true
   },
   "outputs": [
    {
     "name": "stdout",
     "output_type": "stream",
     "text": [
      "<class 'pandas.core.frame.DataFrame'>\n",
      "Int64Index: 797961 entries, 1 to 891220\n",
      "Data columns (total 85 columns):\n",
      "ALTERSKATEGORIE_GROB     795160 non-null float64\n",
      "ANREDE_KZ                797961 non-null int64\n",
      "FINANZ_MINIMALIST        797961 non-null int64\n",
      "FINANZ_SPARER            797961 non-null int64\n",
      "FINANZ_VORSORGER         797961 non-null int64\n",
      "FINANZ_ANLEGER           797961 non-null int64\n",
      "FINANZ_UNAUFFAELLIGER    797961 non-null int64\n",
      "FINANZ_HAUSBAUER         797961 non-null int64\n",
      "GREEN_AVANTGARDE         797961 non-null int64\n",
      "HEALTH_TYP               761281 non-null float64\n",
      "LP_LEBENSPHASE_FEIN      747828 non-null float64\n",
      "LP_LEBENSPHASE_GROB      750714 non-null float64\n",
      "PRAEGENDE_JUGENDJAHRE    769252 non-null float64\n",
      "RETOURTYP_BK_S           793248 non-null float64\n",
      "SEMIO_SOZ                797961 non-null int64\n",
      "SEMIO_FAM                797961 non-null int64\n",
      "SEMIO_REL                797961 non-null int64\n",
      "SEMIO_MAT                797961 non-null int64\n",
      "SEMIO_VERT               797961 non-null int64\n",
      "SEMIO_LUST               797961 non-null int64\n",
      "SEMIO_ERL                797961 non-null int64\n",
      "SEMIO_KULT               797961 non-null int64\n",
      "SEMIO_RAT                797961 non-null int64\n",
      "SEMIO_KRIT               797961 non-null int64\n",
      "SEMIO_DOM                797961 non-null int64\n",
      "SEMIO_KAEM               797961 non-null int64\n",
      "SEMIO_PFLICHT            797961 non-null int64\n",
      "SEMIO_TRADV              797961 non-null int64\n",
      "SOHO_KZ                  797961 non-null float64\n",
      "VERS_TYP                 761281 non-null float64\n",
      "ANZ_PERSONEN             797961 non-null float64\n",
      "ANZ_TITEL                797961 non-null float64\n",
      "HH_EINKOMMEN_SCORE       797961 non-null float64\n",
      "W_KEIT_KIND_HH           738718 non-null float64\n",
      "WOHNDAUER_2008           797961 non-null float64\n",
      "ANZ_HAUSHALTE_AKTIV      791535 non-null float64\n",
      "ANZ_HH_TITEL             794138 non-null float64\n",
      "KONSUMNAEHE              797891 non-null float64\n",
      "MIN_GEBAEUDEJAHR         797961 non-null float64\n",
      "OST_WEST_KZ              797961 non-null int64\n",
      "WOHNLAGE                 797961 non-null float64\n",
      "CAMEO_INTL_2015          791840 non-null object\n",
      "KBA05_ANTG1              757897 non-null float64\n",
      "KBA05_ANTG2              757897 non-null float64\n",
      "KBA05_ANTG3              757897 non-null float64\n",
      "KBA05_ANTG4              757897 non-null float64\n",
      "KBA05_GBZ                757897 non-null float64\n",
      "BALLRAUM                 797369 non-null float64\n",
      "EWDICHTE                 797369 non-null float64\n",
      "INNENSTADT               797369 non-null float64\n",
      "GEBAEUDETYP_RASTER       797954 non-null float64\n",
      "KKK                      733146 non-null float64\n",
      "MOBI_REGIO               757897 non-null float64\n",
      "ONLINE_AFFINITAET        793248 non-null float64\n",
      "REGIOTYP                 733146 non-null float64\n",
      "KBA13_ANZAHL_PKW         785412 non-null float64\n",
      "PLZ8_ANTG1               774706 non-null float64\n",
      "PLZ8_ANTG2               774706 non-null float64\n",
      "PLZ8_ANTG3               774706 non-null float64\n",
      "PLZ8_ANTG4               774706 non-null float64\n",
      "PLZ8_BAUMAX              774706 non-null float64\n",
      "PLZ8_HHZ                 774706 non-null float64\n",
      "PLZ8_GBZ                 774706 non-null float64\n",
      "ARBEIT                   793734 non-null float64\n",
      "ORTSGR_KLS9              793835 non-null float64\n",
      "RELAT_AB                 793734 non-null float64\n",
      "FINANZTYP_1              797961 non-null uint8\n",
      "FINANZTYP_2              797961 non-null uint8\n",
      "FINANZTYP_3              797961 non-null uint8\n",
      "FINANZTYP_4              797961 non-null uint8\n",
      "FINANZTYP_5              797961 non-null uint8\n",
      "FINANZTYP_6              797961 non-null uint8\n",
      "ZABEOTYP_1               797961 non-null uint8\n",
      "ZABEOTYP_2               797961 non-null uint8\n",
      "ZABEOTYP_3               797961 non-null uint8\n",
      "ZABEOTYP_4               797961 non-null uint8\n",
      "ZABEOTYP_5               797961 non-null uint8\n",
      "ZABEOTYP_6               797961 non-null uint8\n",
      "GEBAEUDETYP_1.0          797961 non-null uint8\n",
      "GEBAEUDETYP_2.0          797961 non-null uint8\n",
      "GEBAEUDETYP_3.0          797961 non-null uint8\n",
      "GEBAEUDETYP_4.0          797961 non-null uint8\n",
      "GEBAEUDETYP_5.0          797961 non-null uint8\n",
      "GEBAEUDETYP_6.0          797961 non-null uint8\n",
      "GEBAEUDETYP_8.0          797961 non-null uint8\n",
      "dtypes: float64(42), int64(23), object(1), uint8(19)\n",
      "memory usage: 422.4+ MB\n"
     ]
    }
   ],
   "source": [
    "# Re-encode categorical variable(s) to be kept in the analysis.\n",
    "encoded_azdias = pd.get_dummies(azdias,columns=multi_cat)\n",
    "encoded_azdias.info()"
   ]
  },
  {
   "cell_type": "markdown",
   "metadata": {},
   "source": [
    "#### Discussion 1.2.1: Re-Encode Categorical Features\n",
    "\n",
    "1- After getting a list of the categorical attributes from the feat_info table it is filtered to match the azdias dataframe after cleaning in the previous step.\n",
    "\n",
    "2- After Checking for the binary categories, i replaced one column values of string type to numerical type.\n",
    "\n",
    "3- For the Multi_category attributes i removed the columns with nan values and columns with string values to facilite the encoding process.\n",
    "\n",
    "4- i used the pd.get_dummies() function to produce dummy variables"
   ]
  },
  {
   "cell_type": "markdown",
   "metadata": {},
   "source": [
    "#### Step 1.2.2: Engineer Mixed-Type Features\n",
    "\n",
    "There are a handful of features that are marked as \"mixed\" in the feature summary that require special treatment in order to be included in the analysis. There are two in particular that deserve attention; the handling of the rest are up to your own choices:\n",
    "- \"PRAEGENDE_JUGENDJAHRE\" combines information on three dimensions: generation by decade, movement (mainstream vs. avantgarde), and nation (east vs. west). While there aren't enough levels to disentangle east from west, you should create two new variables to capture the other two dimensions: an interval-type variable for decade, and a binary variable for movement.\n",
    "- \"CAMEO_INTL_2015\" combines information on two axes: wealth and life stage. Break up the two-digit codes by their 'tens'-place and 'ones'-place digits into two new ordinal variables (which, for the purposes of this project, is equivalent to just treating them as their raw numeric values).\n",
    "- If you decide to keep or engineer new features around the other mixed-type features, make sure you note your steps in the Discussion section.\n",
    "\n",
    "Be sure to check `Data_Dictionary.md` for the details needed to finish these tasks."
   ]
  },
  {
   "cell_type": "code",
   "execution_count": 35,
   "metadata": {},
   "outputs": [
    {
     "data": {
      "text/plain": [
       "array([ 14.,  15.,   8.,   3.,  10.,  11.,   5.,   9.,   6.,   4.,  nan,\n",
       "         2.,   1.,  12.,  13.,   7.])"
      ]
     },
     "execution_count": 35,
     "metadata": {},
     "output_type": "execute_result"
    }
   ],
   "source": [
    "# Investigate \"PRAEGENDE_JUGENDJAHRE\" and engineer two new variables.\n",
    "\n",
    "'''\n",
    "data from Data_Dictionary.md\n",
    "\n",
    "### 1.18. PRAEGENDE_JUGENDJAHRE\n",
    "Dominating movement of person's youth (avantgarde vs. mainstream; east vs. west)\n",
    "- -1: unknown\n",
    "-  0: unknown\n",
    "-  1: 40s - war years (Mainstream, E+W)\n",
    "-  2: 40s - reconstruction years (Avantgarde, E+W)\n",
    "-  3: 50s - economic miracle (Mainstream, E+W)\n",
    "-  4: 50s - milk bar / Individualisation (Avantgarde, E+W)\n",
    "-  5: 60s - economic miracle (Mainstream, E+W)\n",
    "-  6: 60s - generation 68 / student protestors (Avantgarde, W)\n",
    "-  7: 60s - opponents to the building of the Wall (Avantgarde, E)\n",
    "-  8: 70s - family orientation (Mainstream, E+W)\n",
    "-  9: 70s - peace movement (Avantgarde, E+W)\n",
    "- 10: 80s - Generation Golf (Mainstream, W)\n",
    "- 11: 80s - ecological awareness (Avantgarde, W)\n",
    "- 12: 80s - FDJ / communist party youth organisation (Mainstream, E)\n",
    "- 13: 80s - Swords into ploughshares (Avantgarde, E)\n",
    "- 14: 90s - digital media kids (Mainstream, E+W)\n",
    "- 15: 90s - ecological awareness (Avantgarde, E+W)\n",
    "'''\n",
    "encoded_azdias['PRAEGENDE_JUGENDJAHRE'].unique()\n"
   ]
  },
  {
   "cell_type": "code",
   "execution_count": 36,
   "metadata": {},
   "outputs": [],
   "source": [
    "def decade(x):\n",
    "    if x in (1,2):\n",
    "        return 0\n",
    "    if x in (3,4):\n",
    "        return 1\n",
    "    if x in (5,6,7):\n",
    "        return 2\n",
    "    if x in (8,9):\n",
    "        return 3\n",
    "    if x in (10,11,12,13):\n",
    "        return 4\n",
    "    if x in (14,15):\n",
    "        return 5\n",
    "\n",
    "\n",
    "def movement(x):\n",
    "    mainstream = [1,3,5,8,10,12,14]\n",
    "    avantgarde = [2,4,6,7,9,11,13,15]\n",
    "    if x in mainstream:\n",
    "        return 0\n",
    "    if x in avantgarde:\n",
    "        return 1\n",
    "\n",
    "encoded_azdias['DECADE'] = encoded_azdias['PRAEGENDE_JUGENDJAHRE'].apply(decade)\n",
    "encoded_azdias['MOVEMENT'] = encoded_azdias['PRAEGENDE_JUGENDJAHRE'].apply(movement)"
   ]
  },
  {
   "cell_type": "code",
   "execution_count": 37,
   "metadata": {},
   "outputs": [
    {
     "data": {
      "text/plain": [
       "array(['51', '24', '12', '43', '54', '22', '14', '13', '15', '33', '41',\n",
       "       '34', '55', nan, '25', '23', '31', '52', '35', '45', '44', '32'], dtype=object)"
      ]
     },
     "execution_count": 37,
     "metadata": {},
     "output_type": "execute_result"
    }
   ],
   "source": [
    "# Investigate \"CAMEO_INTL_2015\" and engineer two new variables.\n",
    "'''\n",
    "### 4.3. CAMEO_INTL_2015\n",
    "German CAMEO: Wealth / Life Stage Typology, mapped to international code\n",
    "- -1: unknown\n",
    "- 11: Wealthy Households - Pre-Family Couples & Singles\n",
    "- 12: Wealthy Households - Young Couples With Children\n",
    "- 13: Wealthy Households - Families With School Age Children\n",
    "- 14: Wealthy Households - Older Families &  Mature Couples\n",
    "- 15: Wealthy Households - Elders In Retirement\n",
    "- 21: Prosperous Households - Pre-Family Couples & Singles\n",
    "- 22: Prosperous Households - Young Couples With Children\n",
    "- 23: Prosperous Households - Families With School Age Children\n",
    "- 24: Prosperous Households - Older Families & Mature Couples\n",
    "- 25: Prosperous Households - Elders In Retirement\n",
    "- 31: Comfortable Households - Pre-Family Couples & Singles\n",
    "- 32: Comfortable Households - Young Couples With Children\n",
    "- 33: Comfortable Households - Families With School Age Children\n",
    "- 34: Comfortable Households - Older Families & Mature Couples\n",
    "- 35: Comfortable Households - Elders In Retirement\n",
    "- 41: Less Affluent Households - Pre-Family Couples & Singles\n",
    "- 42: Less Affluent Households - Young Couples With Children\n",
    "- 43: Less Affluent Households - Families With School Age Children\n",
    "- 44: Less Affluent Households - Older Families & Mature Couples\n",
    "- 45: Less Affluent Households - Elders In Retirement\n",
    "- 51: Poorer Households - Pre-Family Couples & Singles\n",
    "- 52: Poorer Households - Young Couples With Children\n",
    "- 53: Poorer Households - Families With School Age Children\n",
    "- 54: Poorer Households - Older Families & Mature Couples\n",
    "- 55: Poorer Households - Elders In Retirement\n",
    "- XX: unknown\n",
    "\n",
    "-----\n",
    "'''\n",
    "encoded_azdias['CAMEO_INTL_2015'].unique()\n"
   ]
  },
  {
   "cell_type": "code",
   "execution_count": 38,
   "metadata": {},
   "outputs": [
    {
     "data": {
      "text/plain": [
       "array([ 51.,  24.,  12.,  43.,  54.,  22.,  14.,  13.,  15.,  33.,  41.,\n",
       "        34.,  55.,  nan,  25.,  23.,  31.,  52.,  35.,  45.,  44.,  32.])"
      ]
     },
     "execution_count": 38,
     "metadata": {},
     "output_type": "execute_result"
    }
   ],
   "source": [
    "encoded_azdias['CAMEO_INTL_2015'] = pd.to_numeric(encoded_azdias['CAMEO_INTL_2015'])\n",
    "encoded_azdias['CAMEO_INTL_2015'].unique()"
   ]
  },
  {
   "cell_type": "code",
   "execution_count": 39,
   "metadata": {},
   "outputs": [
    {
     "data": {
      "text/plain": [
       "4"
      ]
     },
     "execution_count": 39,
     "metadata": {},
     "output_type": "execute_result"
    }
   ],
   "source": [
    "41//10"
   ]
  },
  {
   "cell_type": "code",
   "execution_count": 40,
   "metadata": {},
   "outputs": [
    {
     "data": {
      "text/plain": [
       "4"
      ]
     },
     "execution_count": 40,
     "metadata": {},
     "output_type": "execute_result"
    }
   ],
   "source": [
    "24 % 10"
   ]
  },
  {
   "cell_type": "code",
   "execution_count": 41,
   "metadata": {},
   "outputs": [],
   "source": [
    "def wealth(x):\n",
    "    if x // 10 == 1:\n",
    "        return 0\n",
    "    if x // 10 == 2:\n",
    "        return 1\n",
    "    if x // 10 == 3:\n",
    "        return 2\n",
    "    if x // 10 == 4:\n",
    "        return 3\n",
    "    if x // 10 == 5:\n",
    "        return 4\n",
    "\n",
    "def life_stage(x):\n",
    "    if x % 10 == 1:\n",
    "        return 0\n",
    "    if x % 10 == 2:\n",
    "        return 1\n",
    "    if x % 10 == 3:\n",
    "        return 2\n",
    "    if x % 10 == 4:\n",
    "        return 3\n",
    "    if x % 10 == 5:\n",
    "        return 4\n",
    "\n",
    "encoded_azdias['WEALTH'] = encoded_azdias['CAMEO_INTL_2015'].apply(wealth)\n",
    "encoded_azdias['LIFE_STAGE'] = encoded_azdias['CAMEO_INTL_2015'].apply(life_stage)"
   ]
  },
  {
   "cell_type": "code",
   "execution_count": 42,
   "metadata": {
    "scrolled": true
   },
   "outputs": [
    {
     "name": "stdout",
     "output_type": "stream",
     "text": [
      "<class 'pandas.core.frame.DataFrame'>\n",
      "Int64Index: 797961 entries, 1 to 891220\n",
      "Data columns (total 87 columns):\n",
      "ALTERSKATEGORIE_GROB     795160 non-null float64\n",
      "ANREDE_KZ                797961 non-null int64\n",
      "FINANZ_MINIMALIST        797961 non-null int64\n",
      "FINANZ_SPARER            797961 non-null int64\n",
      "FINANZ_VORSORGER         797961 non-null int64\n",
      "FINANZ_ANLEGER           797961 non-null int64\n",
      "FINANZ_UNAUFFAELLIGER    797961 non-null int64\n",
      "FINANZ_HAUSBAUER         797961 non-null int64\n",
      "GREEN_AVANTGARDE         797961 non-null int64\n",
      "HEALTH_TYP               761281 non-null float64\n",
      "LP_LEBENSPHASE_FEIN      747828 non-null float64\n",
      "LP_LEBENSPHASE_GROB      750714 non-null float64\n",
      "RETOURTYP_BK_S           793248 non-null float64\n",
      "SEMIO_SOZ                797961 non-null int64\n",
      "SEMIO_FAM                797961 non-null int64\n",
      "SEMIO_REL                797961 non-null int64\n",
      "SEMIO_MAT                797961 non-null int64\n",
      "SEMIO_VERT               797961 non-null int64\n",
      "SEMIO_LUST               797961 non-null int64\n",
      "SEMIO_ERL                797961 non-null int64\n",
      "SEMIO_KULT               797961 non-null int64\n",
      "SEMIO_RAT                797961 non-null int64\n",
      "SEMIO_KRIT               797961 non-null int64\n",
      "SEMIO_DOM                797961 non-null int64\n",
      "SEMIO_KAEM               797961 non-null int64\n",
      "SEMIO_PFLICHT            797961 non-null int64\n",
      "SEMIO_TRADV              797961 non-null int64\n",
      "SOHO_KZ                  797961 non-null float64\n",
      "VERS_TYP                 761281 non-null float64\n",
      "ANZ_PERSONEN             797961 non-null float64\n",
      "ANZ_TITEL                797961 non-null float64\n",
      "HH_EINKOMMEN_SCORE       797961 non-null float64\n",
      "W_KEIT_KIND_HH           738718 non-null float64\n",
      "WOHNDAUER_2008           797961 non-null float64\n",
      "ANZ_HAUSHALTE_AKTIV      791535 non-null float64\n",
      "ANZ_HH_TITEL             794138 non-null float64\n",
      "KONSUMNAEHE              797891 non-null float64\n",
      "MIN_GEBAEUDEJAHR         797961 non-null float64\n",
      "OST_WEST_KZ              797961 non-null int64\n",
      "WOHNLAGE                 797961 non-null float64\n",
      "KBA05_ANTG1              757897 non-null float64\n",
      "KBA05_ANTG2              757897 non-null float64\n",
      "KBA05_ANTG3              757897 non-null float64\n",
      "KBA05_ANTG4              757897 non-null float64\n",
      "KBA05_GBZ                757897 non-null float64\n",
      "BALLRAUM                 797369 non-null float64\n",
      "EWDICHTE                 797369 non-null float64\n",
      "INNENSTADT               797369 non-null float64\n",
      "GEBAEUDETYP_RASTER       797954 non-null float64\n",
      "KKK                      733146 non-null float64\n",
      "MOBI_REGIO               757897 non-null float64\n",
      "ONLINE_AFFINITAET        793248 non-null float64\n",
      "REGIOTYP                 733146 non-null float64\n",
      "KBA13_ANZAHL_PKW         785412 non-null float64\n",
      "PLZ8_ANTG1               774706 non-null float64\n",
      "PLZ8_ANTG2               774706 non-null float64\n",
      "PLZ8_ANTG3               774706 non-null float64\n",
      "PLZ8_ANTG4               774706 non-null float64\n",
      "PLZ8_BAUMAX              774706 non-null float64\n",
      "PLZ8_HHZ                 774706 non-null float64\n",
      "PLZ8_GBZ                 774706 non-null float64\n",
      "ARBEIT                   793734 non-null float64\n",
      "ORTSGR_KLS9              793835 non-null float64\n",
      "RELAT_AB                 793734 non-null float64\n",
      "FINANZTYP_1              797961 non-null uint8\n",
      "FINANZTYP_2              797961 non-null uint8\n",
      "FINANZTYP_3              797961 non-null uint8\n",
      "FINANZTYP_4              797961 non-null uint8\n",
      "FINANZTYP_5              797961 non-null uint8\n",
      "FINANZTYP_6              797961 non-null uint8\n",
      "ZABEOTYP_1               797961 non-null uint8\n",
      "ZABEOTYP_2               797961 non-null uint8\n",
      "ZABEOTYP_3               797961 non-null uint8\n",
      "ZABEOTYP_4               797961 non-null uint8\n",
      "ZABEOTYP_5               797961 non-null uint8\n",
      "ZABEOTYP_6               797961 non-null uint8\n",
      "GEBAEUDETYP_1.0          797961 non-null uint8\n",
      "GEBAEUDETYP_2.0          797961 non-null uint8\n",
      "GEBAEUDETYP_3.0          797961 non-null uint8\n",
      "GEBAEUDETYP_4.0          797961 non-null uint8\n",
      "GEBAEUDETYP_5.0          797961 non-null uint8\n",
      "GEBAEUDETYP_6.0          797961 non-null uint8\n",
      "GEBAEUDETYP_8.0          797961 non-null uint8\n",
      "DECADE                   769252 non-null float64\n",
      "MOVEMENT                 769252 non-null float64\n",
      "WEALTH                   791840 non-null float64\n",
      "LIFE_STAGE               791840 non-null float64\n",
      "dtypes: float64(45), int64(23), uint8(19)\n",
      "memory usage: 434.5 MB\n"
     ]
    }
   ],
   "source": [
    "#drop the old columns \n",
    "encoded_azdias.drop(columns=['CAMEO_INTL_2015','PRAEGENDE_JUGENDJAHRE'],axis=1,inplace=True)\n",
    "encoded_azdias.info()"
   ]
  },
  {
   "cell_type": "code",
   "execution_count": 43,
   "metadata": {},
   "outputs": [
    {
     "data": {
      "text/plain": [
       "['LP_LEBENSPHASE_FEIN',\n",
       " 'LP_LEBENSPHASE_GROB',\n",
       " 'WOHNLAGE',\n",
       " 'KBA05_BAUMAX',\n",
       " 'PLZ8_BAUMAX']"
      ]
     },
     "execution_count": 43,
     "metadata": {},
     "output_type": "execute_result"
    }
   ],
   "source": [
    "mix_attributes = feat_info.loc[feat_info['type'] == 'mixed']['attribute'].values.tolist()\n",
    "mix_attributes = [ele for ele in mix_attributes if ele not in ['PRAEGENDE_JUGENDJAHRE','CAMEO_INTL_2015']]\n",
    "mix_attributes"
   ]
  },
  {
   "cell_type": "code",
   "execution_count": 44,
   "metadata": {},
   "outputs": [
    {
     "data": {
      "text/plain": [
       "['LP_LEBENSPHASE_FEIN', 'LP_LEBENSPHASE_GROB', 'WOHNLAGE', 'PLZ8_BAUMAX']"
      ]
     },
     "execution_count": 44,
     "metadata": {},
     "output_type": "execute_result"
    }
   ],
   "source": [
    "mix_attributes = list(filter(lambda x : x in encoded_azdias.columns, mix_attributes))\n",
    "mix_attributes "
   ]
  },
  {
   "cell_type": "code",
   "execution_count": 45,
   "metadata": {},
   "outputs": [
    {
     "name": "stdout",
     "output_type": "stream",
     "text": [
      "LP_LEBENSPHASE_FEIN [ 21.   3.  nan  32.   8.   2.   5.  10.   4.   6.  23.  12.  20.   1.  11.\n",
      "  25.  13.  18.  31.  38.  35.  30.   7.  22.  14.  29.  24.  28.  37.  26.\n",
      "  39.  27.  36.   9.  34.  33.  15.  40.  16.  19.  17.]\n",
      "LP_LEBENSPHASE_GROB [  6.   1.  nan  10.   2.   3.   5.   7.  12.  11.   9.   4.   8.]\n",
      "WOHNLAGE [ 4.  2.  7.  3.  5.  1.  8.  0.]\n",
      "PLZ8_BAUMAX [  1.   2.  nan   4.   5.   3.]\n"
     ]
    }
   ],
   "source": [
    "for column in mix_attributes:\n",
    "    print(column,encoded_azdias[column].unique())"
   ]
  },
  {
   "cell_type": "code",
   "execution_count": 46,
   "metadata": {
    "scrolled": true
   },
   "outputs": [],
   "source": [
    "encoded_azdias.drop(columns=['LP_LEBENSPHASE_FEIN','LP_LEBENSPHASE_GROB'],axis=1,inplace=True)"
   ]
  },
  {
   "cell_type": "markdown",
   "metadata": {},
   "source": [
    "#### Discussion 1.2.2: Engineer Mixed-Type Features\n",
    "\n",
    "* For the PRAEGENDE_JUGENDJAHRE column i have added 2 variables Movement and Decade depending on the number and the matching data in Data_Dictionary.md file\n",
    "\n",
    "* For the CAMEO_INTL_2015 column i converted the column data type from string to int and added 2 variables Wealth and LifeStage depending on the tens place digit and ones place digit in each number that matches the data in the Dictionary file.\n",
    "\n",
    "* At the end i dropped the original columns from the data \n",
    "\n",
    "* For the WOHNLAGE column it shows only the neighborhood quality,while PLZ8_BAUMAX column shows only the home type in PLZ8 region\n",
    "\n",
    "* For the LP_LEBENSPHASE_FEIN and LP_LEBENSPHASE_GROB columns they show life stage and scale which are represented in other columns, so i dropped them"
   ]
  },
  {
   "cell_type": "markdown",
   "metadata": {},
   "source": [
    "#### Step 1.2.3: Complete Feature Selection\n",
    "\n",
    "In order to finish this step up, you need to make sure that your data frame now only has the columns that you want to keep. To summarize, the dataframe should consist of the following:\n",
    "- All numeric, interval, and ordinal type columns from the original dataset.\n",
    "- Binary categorical features (all numerically-encoded).\n",
    "- Engineered features from other multi-level categorical features and mixed features.\n",
    "\n",
    "Make sure that for any new columns that you have engineered, that you've excluded the original columns from the final dataset. Otherwise, their values will interfere with the analysis later on the project. For example, you should not keep \"PRAEGENDE_JUGENDJAHRE\", since its values won't be useful for the algorithm: only the values derived from it in the engineered features you created should be retained. As a reminder, your data should only be from **the subset with few or no missing values**."
   ]
  },
  {
   "cell_type": "code",
   "execution_count": 47,
   "metadata": {},
   "outputs": [
    {
     "data": {
      "text/plain": [
       "float64    43\n",
       "int64      23\n",
       "uint8      19\n",
       "dtype: int64"
      ]
     },
     "execution_count": 47,
     "metadata": {},
     "output_type": "execute_result"
    }
   ],
   "source": [
    "# If there are other re-engineering tasks you need to perform, make sure you\n",
    "# take care of them here. (Dealing with missing data will come in step 2.1.)\n",
    "\n",
    "encoded_azdias.dtypes.value_counts()"
   ]
  },
  {
   "cell_type": "code",
   "execution_count": 48,
   "metadata": {
    "scrolled": false
   },
   "outputs": [
    {
     "name": "stdout",
     "output_type": "stream",
     "text": [
      "<class 'pandas.core.frame.DataFrame'>\n",
      "Int64Index: 797961 entries, 1 to 891220\n",
      "Data columns (total 85 columns):\n",
      "ALTERSKATEGORIE_GROB     795160 non-null float64\n",
      "ANREDE_KZ                797961 non-null int64\n",
      "FINANZ_MINIMALIST        797961 non-null int64\n",
      "FINANZ_SPARER            797961 non-null int64\n",
      "FINANZ_VORSORGER         797961 non-null int64\n",
      "FINANZ_ANLEGER           797961 non-null int64\n",
      "FINANZ_UNAUFFAELLIGER    797961 non-null int64\n",
      "FINANZ_HAUSBAUER         797961 non-null int64\n",
      "GREEN_AVANTGARDE         797961 non-null int64\n",
      "HEALTH_TYP               761281 non-null float64\n",
      "RETOURTYP_BK_S           793248 non-null float64\n",
      "SEMIO_SOZ                797961 non-null int64\n",
      "SEMIO_FAM                797961 non-null int64\n",
      "SEMIO_REL                797961 non-null int64\n",
      "SEMIO_MAT                797961 non-null int64\n",
      "SEMIO_VERT               797961 non-null int64\n",
      "SEMIO_LUST               797961 non-null int64\n",
      "SEMIO_ERL                797961 non-null int64\n",
      "SEMIO_KULT               797961 non-null int64\n",
      "SEMIO_RAT                797961 non-null int64\n",
      "SEMIO_KRIT               797961 non-null int64\n",
      "SEMIO_DOM                797961 non-null int64\n",
      "SEMIO_KAEM               797961 non-null int64\n",
      "SEMIO_PFLICHT            797961 non-null int64\n",
      "SEMIO_TRADV              797961 non-null int64\n",
      "SOHO_KZ                  797961 non-null float64\n",
      "VERS_TYP                 761281 non-null float64\n",
      "ANZ_PERSONEN             797961 non-null float64\n",
      "ANZ_TITEL                797961 non-null float64\n",
      "HH_EINKOMMEN_SCORE       797961 non-null float64\n",
      "W_KEIT_KIND_HH           738718 non-null float64\n",
      "WOHNDAUER_2008           797961 non-null float64\n",
      "ANZ_HAUSHALTE_AKTIV      791535 non-null float64\n",
      "ANZ_HH_TITEL             794138 non-null float64\n",
      "KONSUMNAEHE              797891 non-null float64\n",
      "MIN_GEBAEUDEJAHR         797961 non-null float64\n",
      "OST_WEST_KZ              797961 non-null int64\n",
      "WOHNLAGE                 797961 non-null float64\n",
      "KBA05_ANTG1              757897 non-null float64\n",
      "KBA05_ANTG2              757897 non-null float64\n",
      "KBA05_ANTG3              757897 non-null float64\n",
      "KBA05_ANTG4              757897 non-null float64\n",
      "KBA05_GBZ                757897 non-null float64\n",
      "BALLRAUM                 797369 non-null float64\n",
      "EWDICHTE                 797369 non-null float64\n",
      "INNENSTADT               797369 non-null float64\n",
      "GEBAEUDETYP_RASTER       797954 non-null float64\n",
      "KKK                      733146 non-null float64\n",
      "MOBI_REGIO               757897 non-null float64\n",
      "ONLINE_AFFINITAET        793248 non-null float64\n",
      "REGIOTYP                 733146 non-null float64\n",
      "KBA13_ANZAHL_PKW         785412 non-null float64\n",
      "PLZ8_ANTG1               774706 non-null float64\n",
      "PLZ8_ANTG2               774706 non-null float64\n",
      "PLZ8_ANTG3               774706 non-null float64\n",
      "PLZ8_ANTG4               774706 non-null float64\n",
      "PLZ8_BAUMAX              774706 non-null float64\n",
      "PLZ8_HHZ                 774706 non-null float64\n",
      "PLZ8_GBZ                 774706 non-null float64\n",
      "ARBEIT                   793734 non-null float64\n",
      "ORTSGR_KLS9              793835 non-null float64\n",
      "RELAT_AB                 793734 non-null float64\n",
      "FINANZTYP_1              797961 non-null uint8\n",
      "FINANZTYP_2              797961 non-null uint8\n",
      "FINANZTYP_3              797961 non-null uint8\n",
      "FINANZTYP_4              797961 non-null uint8\n",
      "FINANZTYP_5              797961 non-null uint8\n",
      "FINANZTYP_6              797961 non-null uint8\n",
      "ZABEOTYP_1               797961 non-null uint8\n",
      "ZABEOTYP_2               797961 non-null uint8\n",
      "ZABEOTYP_3               797961 non-null uint8\n",
      "ZABEOTYP_4               797961 non-null uint8\n",
      "ZABEOTYP_5               797961 non-null uint8\n",
      "ZABEOTYP_6               797961 non-null uint8\n",
      "GEBAEUDETYP_1.0          797961 non-null uint8\n",
      "GEBAEUDETYP_2.0          797961 non-null uint8\n",
      "GEBAEUDETYP_3.0          797961 non-null uint8\n",
      "GEBAEUDETYP_4.0          797961 non-null uint8\n",
      "GEBAEUDETYP_5.0          797961 non-null uint8\n",
      "GEBAEUDETYP_6.0          797961 non-null uint8\n",
      "GEBAEUDETYP_8.0          797961 non-null uint8\n",
      "DECADE                   769252 non-null float64\n",
      "MOVEMENT                 769252 non-null float64\n",
      "WEALTH                   791840 non-null float64\n",
      "LIFE_STAGE               791840 non-null float64\n",
      "dtypes: float64(43), int64(23), uint8(19)\n",
      "memory usage: 422.4 MB\n"
     ]
    }
   ],
   "source": [
    "# Do whatever you need to in order to ensure that the dataframe only contains\n",
    "# the columns that should be passed to the algorithm functions.\n",
    "encoded_azdias.info()\n"
   ]
  },
  {
   "cell_type": "markdown",
   "metadata": {},
   "source": [
    "### Step 1.3: Create a Cleaning Function\n",
    "\n",
    "Even though you've finished cleaning up the general population demographics data, it's important to look ahead to the future and realize that you'll need to perform the same cleaning steps on the customer demographics data. In this substep, complete the function below to execute the main feature selection, encoding, and re-engineering steps you performed above. Then, when it comes to looking at the customer data in Step 3, you can just run this function on that DataFrame to get the trimmed dataset in a single step."
   ]
  },
  {
   "cell_type": "code",
   "execution_count": 49,
   "metadata": {},
   "outputs": [],
   "source": [
    "def clean_data(df):\n",
    "    \"\"\"\n",
    "    Perform feature trimming, re-encoding, and engineering for demographics\n",
    "    data\n",
    "    \n",
    "    INPUT: Demographics DataFrame\n",
    "    OUTPUT: Trimmed and cleaned demographics DataFrame\n",
    "    \"\"\"\n",
    "    \n",
    "    # Put in code here to execute all main cleaning steps:\n",
    "    # convert missing value codes into NaNs, ...\n",
    "    for index,attribute in enumerate(feat_info.attribute):\n",
    "        values_to_be_replaced = missing_or_unknown[index]\n",
    "        if values_to_be_replaced is not np.NaN :\n",
    "            missing_values = [x if x in ['X','XX'] else int(x) for x in values_to_be_replaced]\n",
    "            df[attribute].replace(missing_values, np.NaN, inplace=True)\n",
    "    \n",
    "    \n",
    "    # remove selected columns and rows, ...\n",
    "    \n",
    "    #remove selected columns\n",
    "    df.drop(columns=attributes_to_be_removed , axis=1,inplace=True)\n",
    "    #remove selected rows(only keeping rows with null values less than 25)\n",
    "    df1 = df.loc[df.isnull().sum(axis=1) <= 25,:]\n",
    "    df2 = df.loc[df.isnull().sum(axis=1) > 25,:]\n",
    "    \n",
    "    # select, re-encode, and engineer column values.\n",
    "    \n",
    "    #replacing non numeric values in binary category to numeric\n",
    "    df1['OST_WEST_KZ'].replace({'W': 0,'O':1},inplace=True)\n",
    "    #drop the CAMEO_DEU_2015 column for containing string values \n",
    "    df1.drop('CAMEO_DEU_2015',axis =1,inplace=True)\n",
    "    \n",
    "    #drop multi_category columns containing nans\n",
    "    for column in multi_categories:\n",
    "        if df1[column].isna().any():\n",
    "            df1.drop(column,axis =1,inplace=True)\n",
    "    \n",
    "    #encoding the mutli_category columns with dummy variables\n",
    "    df1 = pd.get_dummies(df1,columns=multi_cat)\n",
    "    \n",
    "    #Engineer Mixed-Type Features\n",
    "    df1['DECADE'] = df1['PRAEGENDE_JUGENDJAHRE'].apply(decade)\n",
    "    df1['MOVEMENT'] = df1['PRAEGENDE_JUGENDJAHRE'].apply(movement)\n",
    "\n",
    "    df1['CAMEO_INTL_2015'] = pd.to_numeric(df1['CAMEO_INTL_2015'])\n",
    "\n",
    "    df1['WEALTH'] = df1['CAMEO_INTL_2015'].apply(wealth)\n",
    "    df1['LIFE_STAGE'] = df1['CAMEO_INTL_2015'].apply(life_stage)\n",
    "    df1.drop(columns=['CAMEO_INTL_2015','PRAEGENDE_JUGENDJAHRE'],axis=1,inplace=True)\n",
    "    df1.drop(columns=['LP_LEBENSPHASE_FEIN','LP_LEBENSPHASE_GROB'],axis=1,inplace=True)\n",
    "    \n",
    "    # Return the cleaned dataframe.\n",
    "    return df1,df2\n",
    "    "
   ]
  },
  {
   "cell_type": "markdown",
   "metadata": {},
   "source": [
    "## Step 2: Feature Transformation\n",
    "\n",
    "### Step 2.1: Apply Feature Scaling\n",
    "\n",
    "Before we apply dimensionality reduction techniques to the data, we need to perform feature scaling so that the principal component vectors are not influenced by the natural differences in scale for features. Starting from this part of the project, you'll want to keep an eye on the [API reference page for sklearn](http://scikit-learn.org/stable/modules/classes.html) to help you navigate to all of the classes and functions that you'll need. In this substep, you'll need to check the following:\n",
    "\n",
    "- sklearn requires that data not have missing values in order for its estimators to work properly. So, before applying the scaler to your data, make sure that you've cleaned the DataFrame of the remaining missing values. This can be as simple as just removing all data points with missing data, or applying an [Imputer](http://scikit-learn.org/stable/modules/generated/sklearn.preprocessing.Imputer.html) to replace all missing values. You might also try a more complicated procedure where you temporarily remove missing values in order to compute the scaling parameters before re-introducing those missing values and applying imputation. Think about how much missing data you have and what possible effects each approach might have on your analysis, and justify your decision in the discussion section below.\n",
    "- For the actual scaling function, a [StandardScaler](http://scikit-learn.org/stable/modules/generated/sklearn.preprocessing.StandardScaler.html) instance is suggested, scaling each feature to mean 0 and standard deviation 1.\n",
    "- For these classes, you can make use of the `.fit_transform()` method to both fit a procedure to the data as well as apply the transformation to the data at the same time. Don't forget to keep the fit sklearn objects handy, since you'll be applying them to the customer demographics data towards the end of the project."
   ]
  },
  {
   "cell_type": "code",
   "execution_count": 50,
   "metadata": {},
   "outputs": [
    {
     "data": {
      "text/plain": [
       "784520"
      ]
     },
     "execution_count": 50,
     "metadata": {},
     "output_type": "execute_result"
    }
   ],
   "source": [
    "# If you've not yet cleaned the dataset of all NaN values, then investigate and\n",
    "# do that now.\n",
    "#sum of null values before imputation\n",
    "encoded_azdias.isnull().sum().sum()"
   ]
  },
  {
   "cell_type": "code",
   "execution_count": 51,
   "metadata": {},
   "outputs": [],
   "source": [
    "#making a copy of the azdias df\n",
    "enc_azdias = encoded_azdias.copy()\n",
    "#preserving the df columns to add later \n",
    "columns = enc_azdias.columns\n",
    "#Making an imputer using mean values to replace the nan values and make fit_transform\n",
    "imputer = Imputer(missing_values=np.NaN, strategy='mean',axis=0)\n",
    "enc_azdias = imputer.fit_transform(enc_azdias)"
   ]
  },
  {
   "cell_type": "code",
   "execution_count": 52,
   "metadata": {},
   "outputs": [
    {
     "data": {
      "text/plain": [
       "0"
      ]
     },
     "execution_count": 52,
     "metadata": {},
     "output_type": "execute_result"
    }
   ],
   "source": [
    "#The data produced is a np array and should be converted back to dataframe\n",
    "enc_azdias = pd.DataFrame(enc_azdias,columns = columns)\n",
    "#checking for null values after imputation\n",
    "enc_azdias.isnull().sum().sum()"
   ]
  },
  {
   "cell_type": "code",
   "execution_count": 53,
   "metadata": {},
   "outputs": [
    {
     "data": {
      "text/html": [
       "<div>\n",
       "<style scoped>\n",
       "    .dataframe tbody tr th:only-of-type {\n",
       "        vertical-align: middle;\n",
       "    }\n",
       "\n",
       "    .dataframe tbody tr th {\n",
       "        vertical-align: top;\n",
       "    }\n",
       "\n",
       "    .dataframe thead th {\n",
       "        text-align: right;\n",
       "    }\n",
       "</style>\n",
       "<table border=\"1\" class=\"dataframe\">\n",
       "  <thead>\n",
       "    <tr style=\"text-align: right;\">\n",
       "      <th></th>\n",
       "      <th>ALTERSKATEGORIE_GROB</th>\n",
       "      <th>ANREDE_KZ</th>\n",
       "      <th>FINANZ_MINIMALIST</th>\n",
       "      <th>FINANZ_SPARER</th>\n",
       "      <th>FINANZ_VORSORGER</th>\n",
       "      <th>FINANZ_ANLEGER</th>\n",
       "      <th>FINANZ_UNAUFFAELLIGER</th>\n",
       "      <th>FINANZ_HAUSBAUER</th>\n",
       "      <th>GREEN_AVANTGARDE</th>\n",
       "      <th>HEALTH_TYP</th>\n",
       "      <th>...</th>\n",
       "      <th>GEBAEUDETYP_2.0</th>\n",
       "      <th>GEBAEUDETYP_3.0</th>\n",
       "      <th>GEBAEUDETYP_4.0</th>\n",
       "      <th>GEBAEUDETYP_5.0</th>\n",
       "      <th>GEBAEUDETYP_6.0</th>\n",
       "      <th>GEBAEUDETYP_8.0</th>\n",
       "      <th>DECADE</th>\n",
       "      <th>MOVEMENT</th>\n",
       "      <th>WEALTH</th>\n",
       "      <th>LIFE_STAGE</th>\n",
       "    </tr>\n",
       "  </thead>\n",
       "  <tbody>\n",
       "    <tr>\n",
       "      <th>0</th>\n",
       "      <td>-1.766034</td>\n",
       "      <td>0.957933</td>\n",
       "      <td>-1.494605</td>\n",
       "      <td>1.537983</td>\n",
       "      <td>-1.040689</td>\n",
       "      <td>1.466048</td>\n",
       "      <td>0.958818</td>\n",
       "      <td>1.339234</td>\n",
       "      <td>-0.530442</td>\n",
       "      <td>1.085896</td>\n",
       "      <td>...</td>\n",
       "      <td>-0.078636</td>\n",
       "      <td>-0.537096</td>\n",
       "      <td>-0.033547</td>\n",
       "      <td>-0.001119</td>\n",
       "      <td>-0.027998</td>\n",
       "      <td>2.057545</td>\n",
       "      <td>1.165659</td>\n",
       "      <td>-0.553151</td>\n",
       "      <td>1.191245</td>\n",
       "      <td>-1.266353</td>\n",
       "    </tr>\n",
       "    <tr>\n",
       "      <th>1</th>\n",
       "      <td>0.201250</td>\n",
       "      <td>0.957933</td>\n",
       "      <td>-1.494605</td>\n",
       "      <td>0.864617</td>\n",
       "      <td>-1.766963</td>\n",
       "      <td>-0.570958</td>\n",
       "      <td>0.244259</td>\n",
       "      <td>1.339234</td>\n",
       "      <td>1.885219</td>\n",
       "      <td>1.085896</td>\n",
       "      <td>...</td>\n",
       "      <td>-0.078636</td>\n",
       "      <td>-0.537096</td>\n",
       "      <td>-0.033547</td>\n",
       "      <td>-0.001119</td>\n",
       "      <td>-0.027998</td>\n",
       "      <td>-0.486016</td>\n",
       "      <td>1.165659</td>\n",
       "      <td>1.875295</td>\n",
       "      <td>-0.865147</td>\n",
       "      <td>0.761951</td>\n",
       "    </tr>\n",
       "  </tbody>\n",
       "</table>\n",
       "<p>2 rows × 85 columns</p>\n",
       "</div>"
      ],
      "text/plain": [
       "   ALTERSKATEGORIE_GROB  ANREDE_KZ  FINANZ_MINIMALIST  FINANZ_SPARER  \\\n",
       "0             -1.766034   0.957933          -1.494605       1.537983   \n",
       "1              0.201250   0.957933          -1.494605       0.864617   \n",
       "\n",
       "   FINANZ_VORSORGER  FINANZ_ANLEGER  FINANZ_UNAUFFAELLIGER  FINANZ_HAUSBAUER  \\\n",
       "0         -1.040689        1.466048               0.958818          1.339234   \n",
       "1         -1.766963       -0.570958               0.244259          1.339234   \n",
       "\n",
       "   GREEN_AVANTGARDE  HEALTH_TYP     ...      GEBAEUDETYP_2.0  GEBAEUDETYP_3.0  \\\n",
       "0         -0.530442    1.085896     ...            -0.078636        -0.537096   \n",
       "1          1.885219    1.085896     ...            -0.078636        -0.537096   \n",
       "\n",
       "   GEBAEUDETYP_4.0  GEBAEUDETYP_5.0  GEBAEUDETYP_6.0  GEBAEUDETYP_8.0  \\\n",
       "0        -0.033547        -0.001119        -0.027998         2.057545   \n",
       "1        -0.033547        -0.001119        -0.027998        -0.486016   \n",
       "\n",
       "     DECADE  MOVEMENT    WEALTH  LIFE_STAGE  \n",
       "0  1.165659 -0.553151  1.191245   -1.266353  \n",
       "1  1.165659  1.875295 -0.865147    0.761951  \n",
       "\n",
       "[2 rows x 85 columns]"
      ]
     },
     "execution_count": 53,
     "metadata": {},
     "output_type": "execute_result"
    }
   ],
   "source": [
    "# Apply feature scaling to the general population demographics data.\n",
    "scaler = StandardScaler()\n",
    "scaled_azdias = scaler.fit_transform(enc_azdias)\n",
    "#The data produced is a np array and should be converted back to dataframe\n",
    "scaled_azdias = pd.DataFrame(scaled_azdias,columns = columns)\n",
    "#checking for the azdias df after scaling\n",
    "scaled_azdias.head(2)"
   ]
  },
  {
   "cell_type": "markdown",
   "metadata": {},
   "source": [
    "### Discussion 2.1: Apply Feature Scaling\n",
    "\n",
    "The number of missing values in the dataframe was very large and we can't risk to remove them, so i choose to make imputation using the mean value along the axis\n",
    "\n",
    "For the scaling, StandardScaler is straigh forward with no additional parameters"
   ]
  },
  {
   "cell_type": "markdown",
   "metadata": {},
   "source": [
    "### Step 2.2: Perform Dimensionality Reduction\n",
    "\n",
    "On your scaled data, you are now ready to apply dimensionality reduction techniques.\n",
    "\n",
    "- Use sklearn's [PCA](http://scikit-learn.org/stable/modules/generated/sklearn.decomposition.PCA.html) class to apply principal component analysis on the data, thus finding the vectors of maximal variance in the data. To start, you should not set any parameters (so all components are computed) or set a number of components that is at least half the number of features (so there's enough features to see the general trend in variability).\n",
    "- Check out the ratio of variance explained by each principal component as well as the cumulative variance explained. Try plotting the cumulative or sequential values using matplotlib's [`plot()`](https://matplotlib.org/api/_as_gen/matplotlib.pyplot.plot.html) function. Based on what you find, select a value for the number of transformed features you'll retain for the clustering part of the project.\n",
    "- Once you've made a choice for the number of components to keep, make sure you re-fit a PCA instance to perform the decided-on transformation."
   ]
  },
  {
   "cell_type": "code",
   "execution_count": 54,
   "metadata": {},
   "outputs": [
    {
     "data": {
      "text/plain": [
       "array([[  4.45800933e+00,  -3.13893922e+00,  -2.77905588e+00, ...,\n",
       "         -5.50642407e-10,   4.15618836e-10,  -2.50773954e-13],\n",
       "       [ -3.90902088e-01,  -7.76865795e-01,  -3.35793475e+00, ...,\n",
       "          1.28987847e-10,   1.24072174e-10,   1.29354176e-10],\n",
       "       [ -4.21933668e+00,   1.37980295e+00,  -1.12478833e+00, ...,\n",
       "          6.01766994e-10,   3.81348561e-10,  -5.05334931e-11],\n",
       "       ..., \n",
       "       [ -3.96540487e-01,  -3.96972348e+00,  -3.03653610e+00, ...,\n",
       "         -1.21282685e-14,  -5.79779561e-15,   1.42449950e-16],\n",
       "       [  6.72942057e+00,  -3.14367080e+00,   2.44413874e+00, ...,\n",
       "          1.24970780e-15,  -4.88722155e-15,   8.06881446e-16],\n",
       "       [ -8.87043887e-01,   1.78950706e+00,   2.64810585e+00, ...,\n",
       "          5.04688777e-15,  -1.50721361e-14,   6.82304892e-16]])"
      ]
     },
     "execution_count": 54,
     "metadata": {},
     "output_type": "execute_result"
    }
   ],
   "source": [
    "# Apply PCA to the data.\n",
    "pca = PCA()\n",
    "reduced_azdias = pca.fit_transform(scaled_azdias)\n",
    "reduced_azdias"
   ]
  },
  {
   "cell_type": "code",
   "execution_count": 55,
   "metadata": {},
   "outputs": [
    {
     "data": {
      "text/plain": [
       "array([  1.43047555e-01,   1.16241013e-01,   7.56290774e-02,\n",
       "         4.54321536e-02,   3.06254672e-02,   2.79793328e-02,\n",
       "         2.31454136e-02,   2.20378203e-02,   2.01459402e-02,\n",
       "         1.96517545e-02,   1.83773285e-02,   1.77334557e-02,\n",
       "         1.68779709e-02,   1.60172800e-02,   1.51172864e-02,\n",
       "         1.43271590e-02,   1.35420110e-02,   1.32235933e-02,\n",
       "         1.29332623e-02,   1.28581061e-02,   1.20980897e-02,\n",
       "         1.19025154e-02,   1.18871175e-02,   1.17771465e-02,\n",
       "         1.17676143e-02,   1.17581686e-02,   1.13353033e-02,\n",
       "         1.09911228e-02,   1.05505381e-02,   1.01502482e-02,\n",
       "         1.00345469e-02,   9.39157639e-03,   9.20376978e-03,\n",
       "         8.92167907e-03,   8.67236873e-03,   8.43042877e-03,\n",
       "         8.19424350e-03,   7.74066319e-03,   7.65597515e-03,\n",
       "         7.35928460e-03,   6.78091682e-03,   5.95380571e-03,\n",
       "         5.85187711e-03,   5.66680166e-03,   5.17385386e-03,\n",
       "         5.02979408e-03,   4.93971218e-03,   4.78810204e-03,\n",
       "         4.68154556e-03,   4.47228353e-03,   4.40078672e-03,\n",
       "         4.25729706e-03,   3.63782893e-03,   3.47218894e-03,\n",
       "         3.25574917e-03,   3.16713173e-03,   3.07855588e-03,\n",
       "         3.04777046e-03,   2.93330339e-03,   2.89992792e-03,\n",
       "         2.78079860e-03,   2.68013717e-03,   2.59113756e-03,\n",
       "         2.37239058e-03,   2.32694594e-03,   2.17281203e-03,\n",
       "         2.15056080e-03,   2.03240754e-03,   2.01547361e-03,\n",
       "         1.94058264e-03,   1.86555219e-03,   1.70195035e-03,\n",
       "         1.63307118e-03,   1.62299729e-03,   1.42505771e-03,\n",
       "         1.40342024e-03,   1.32871318e-03,   1.13223680e-03,\n",
       "         9.63134315e-04,   9.36136217e-04,   6.28002606e-04,\n",
       "         4.18674707e-05,   1.06557297e-26,   5.53742531e-27,\n",
       "         4.04327946e-28])"
      ]
     },
     "metadata": {},
     "output_type": "display_data"
    },
    {
     "data": {
      "text/plain": [
       "array([ 0.14304755,  0.25928857,  0.33491765,  0.3803498 ,  0.41097527,\n",
       "        0.4389546 ,  0.46210001,  0.48413783,  0.50428377,  0.52393553,\n",
       "        0.54231286,  0.56004631,  0.57692428,  0.59294156,  0.60805885,\n",
       "        0.62238601,  0.63592802,  0.64915161,  0.66208487,  0.67494298,\n",
       "        0.68704107,  0.69894359,  0.7108307 ,  0.72260785,  0.73437546,\n",
       "        0.74613363,  0.75746894,  0.76846006,  0.7790106 ,  0.78916085,\n",
       "        0.79919539,  0.80858697,  0.81779074,  0.82671242,  0.83538479,\n",
       "        0.84381521,  0.85200946,  0.85975012,  0.8674061 ,  0.87476538,\n",
       "        0.8815463 ,  0.8875001 ,  0.89335198,  0.89901878,  0.90419264,\n",
       "        0.90922243,  0.91416214,  0.91895024,  0.92363179,  0.92810407,\n",
       "        0.93250486,  0.93676216,  0.94039999,  0.94387218,  0.94712792,\n",
       "        0.95029506,  0.95337361,  0.95642138,  0.95935469,  0.96225461,\n",
       "        0.96503541,  0.96771555,  0.97030669,  0.97267908,  0.97500602,\n",
       "        0.97717884,  0.9793294 ,  0.9813618 ,  0.98337728,  0.98531786,\n",
       "        0.98718341,  0.98888536,  0.99051843,  0.99214143,  0.99356649,\n",
       "        0.99496991,  0.99629862,  0.99743086,  0.99839399,  0.99933013,\n",
       "        0.99995813,  1.        ,  1.        ,  1.        ,  1.        ])"
      ]
     },
     "metadata": {},
     "output_type": "display_data"
    }
   ],
   "source": [
    "# Investigate the variance accounted for by each principal component.\n",
    "variance_explained = pca.explained_variance_ratio_\n",
    "\n",
    "display(variance_explained , np.cumsum(variance_explained))"
   ]
  },
  {
   "cell_type": "code",
   "execution_count": 56,
   "metadata": {},
   "outputs": [
    {
     "data": {
      "image/png": "[encoded data removed]",
      "text/plain": [
       "<matplotlib.figure.Figure at 0x7fe25c5c2c88>"
      ]
     },
     "metadata": {
      "needs_background": "light"
     },
     "output_type": "display_data"
    }
   ],
   "source": [
    "def scree_plot(pca):\n",
    "    \n",
    "    num_components = len(pca.explained_variance_ratio_)\n",
    "    ind = np.arange(num_components)\n",
    "    vals = pca.explained_variance_ratio_\n",
    "    \n",
    "    plt.figure(figsize=(14, 6))\n",
    "    ax = plt.subplot(111)\n",
    "    cumvals = np.cumsum(vals)\n",
    "    ax.bar(ind, vals)\n",
    "    ax.plot(ind, cumvals)\n",
    "    for i in range(num_components):\n",
    "        ax.annotate(r\"%s%%\" % ((str(vals[i]*100)[:4])), (ind[i]+0.2, vals[i]+0.01), va=\"bottom\", ha=\"center\", fontsize=8,rotation=90)\n",
    " \n",
    "    ax.xaxis.set_tick_params(width=0)\n",
    "    ax.yaxis.set_tick_params(width=2, length=12)\n",
    " \n",
    "    ax.set_xlabel(\"Principal Component\")\n",
    "    ax.set_ylabel(\"Variance Explained (%)\")\n",
    "    plt.title('Explained Variance Per Principal Component')\n",
    "    \n",
    "scree_plot(pca)"
   ]
  },
  {
   "cell_type": "markdown",
   "metadata": {},
   "source": [
    "We can see that with 20 components we have more than 60% variance explained and so we can reapply pca with 20 components as parameter"
   ]
  },
  {
   "cell_type": "code",
   "execution_count": 57,
   "metadata": {},
   "outputs": [
    {
     "data": {
      "text/html": [
       "<div>\n",
       "<style scoped>\n",
       "    .dataframe tbody tr th:only-of-type {\n",
       "        vertical-align: middle;\n",
       "    }\n",
       "\n",
       "    .dataframe tbody tr th {\n",
       "        vertical-align: top;\n",
       "    }\n",
       "\n",
       "    .dataframe thead th {\n",
       "        text-align: right;\n",
       "    }\n",
       "</style>\n",
       "<table border=\"1\" class=\"dataframe\">\n",
       "  <thead>\n",
       "    <tr style=\"text-align: right;\">\n",
       "      <th></th>\n",
       "      <th>0</th>\n",
       "      <th>1</th>\n",
       "      <th>2</th>\n",
       "      <th>3</th>\n",
       "      <th>4</th>\n",
       "      <th>5</th>\n",
       "      <th>6</th>\n",
       "      <th>7</th>\n",
       "      <th>8</th>\n",
       "      <th>9</th>\n",
       "      <th>10</th>\n",
       "      <th>11</th>\n",
       "      <th>12</th>\n",
       "      <th>13</th>\n",
       "      <th>14</th>\n",
       "      <th>15</th>\n",
       "      <th>16</th>\n",
       "      <th>17</th>\n",
       "      <th>18</th>\n",
       "      <th>19</th>\n",
       "    </tr>\n",
       "  </thead>\n",
       "  <tbody>\n",
       "    <tr>\n",
       "      <th>0</th>\n",
       "      <td>4.458025</td>\n",
       "      <td>-3.138889</td>\n",
       "      <td>-2.778586</td>\n",
       "      <td>-0.464875</td>\n",
       "      <td>-2.866420</td>\n",
       "      <td>1.798926</td>\n",
       "      <td>0.856112</td>\n",
       "      <td>0.150287</td>\n",
       "      <td>0.046947</td>\n",
       "      <td>-0.969656</td>\n",
       "      <td>1.718437</td>\n",
       "      <td>-0.668247</td>\n",
       "      <td>1.755631</td>\n",
       "      <td>-0.706303</td>\n",
       "      <td>-2.054192</td>\n",
       "      <td>2.292589</td>\n",
       "      <td>-1.186306</td>\n",
       "      <td>-2.654753</td>\n",
       "      <td>3.901549</td>\n",
       "      <td>3.679810</td>\n",
       "    </tr>\n",
       "    <tr>\n",
       "      <th>1</th>\n",
       "      <td>-0.390915</td>\n",
       "      <td>-0.776859</td>\n",
       "      <td>-3.358186</td>\n",
       "      <td>2.540492</td>\n",
       "      <td>-1.420489</td>\n",
       "      <td>-0.987751</td>\n",
       "      <td>-1.339267</td>\n",
       "      <td>-0.905400</td>\n",
       "      <td>-0.955277</td>\n",
       "      <td>-1.179399</td>\n",
       "      <td>1.293598</td>\n",
       "      <td>-1.164326</td>\n",
       "      <td>2.013784</td>\n",
       "      <td>0.316111</td>\n",
       "      <td>-0.261092</td>\n",
       "      <td>0.408724</td>\n",
       "      <td>1.363423</td>\n",
       "      <td>-0.938493</td>\n",
       "      <td>0.613537</td>\n",
       "      <td>-0.143302</td>\n",
       "    </tr>\n",
       "    <tr>\n",
       "      <th>2</th>\n",
       "      <td>-4.219316</td>\n",
       "      <td>1.379799</td>\n",
       "      <td>-1.124752</td>\n",
       "      <td>-1.315817</td>\n",
       "      <td>0.501772</td>\n",
       "      <td>0.278928</td>\n",
       "      <td>-0.177955</td>\n",
       "      <td>0.403562</td>\n",
       "      <td>-0.342310</td>\n",
       "      <td>0.451822</td>\n",
       "      <td>-0.277997</td>\n",
       "      <td>-0.935739</td>\n",
       "      <td>-0.450076</td>\n",
       "      <td>0.549772</td>\n",
       "      <td>-0.633840</td>\n",
       "      <td>-0.470757</td>\n",
       "      <td>0.350862</td>\n",
       "      <td>-0.091547</td>\n",
       "      <td>-0.113236</td>\n",
       "      <td>-1.613632</td>\n",
       "    </tr>\n",
       "    <tr>\n",
       "      <th>3</th>\n",
       "      <td>0.482335</td>\n",
       "      <td>0.473676</td>\n",
       "      <td>3.372866</td>\n",
       "      <td>0.692035</td>\n",
       "      <td>1.852657</td>\n",
       "      <td>-3.341543</td>\n",
       "      <td>1.738085</td>\n",
       "      <td>-1.073559</td>\n",
       "      <td>0.351601</td>\n",
       "      <td>-0.763746</td>\n",
       "      <td>-1.548218</td>\n",
       "      <td>2.159074</td>\n",
       "      <td>1.778653</td>\n",
       "      <td>0.281947</td>\n",
       "      <td>1.518407</td>\n",
       "      <td>0.056362</td>\n",
       "      <td>0.735596</td>\n",
       "      <td>0.620567</td>\n",
       "      <td>0.548776</td>\n",
       "      <td>0.565449</td>\n",
       "    </tr>\n",
       "    <tr>\n",
       "      <th>4</th>\n",
       "      <td>-1.228108</td>\n",
       "      <td>-1.477585</td>\n",
       "      <td>-1.229978</td>\n",
       "      <td>-2.270979</td>\n",
       "      <td>-2.974343</td>\n",
       "      <td>-1.575653</td>\n",
       "      <td>0.012450</td>\n",
       "      <td>1.620568</td>\n",
       "      <td>2.797953</td>\n",
       "      <td>1.169354</td>\n",
       "      <td>0.475839</td>\n",
       "      <td>0.747355</td>\n",
       "      <td>-0.755970</td>\n",
       "      <td>1.511405</td>\n",
       "      <td>-0.960099</td>\n",
       "      <td>0.064637</td>\n",
       "      <td>-3.064460</td>\n",
       "      <td>2.071304</td>\n",
       "      <td>-0.516139</td>\n",
       "      <td>1.468904</td>\n",
       "    </tr>\n",
       "  </tbody>\n",
       "</table>\n",
       "</div>"
      ],
      "text/plain": [
       "         0         1         2         3         4         5         6   \\\n",
       "0  4.458025 -3.138889 -2.778586 -0.464875 -2.866420  1.798926  0.856112   \n",
       "1 -0.390915 -0.776859 -3.358186  2.540492 -1.420489 -0.987751 -1.339267   \n",
       "2 -4.219316  1.379799 -1.124752 -1.315817  0.501772  0.278928 -0.177955   \n",
       "3  0.482335  0.473676  3.372866  0.692035  1.852657 -3.341543  1.738085   \n",
       "4 -1.228108 -1.477585 -1.229978 -2.270979 -2.974343 -1.575653  0.012450   \n",
       "\n",
       "         7         8         9         10        11        12        13  \\\n",
       "0  0.150287  0.046947 -0.969656  1.718437 -0.668247  1.755631 -0.706303   \n",
       "1 -0.905400 -0.955277 -1.179399  1.293598 -1.164326  2.013784  0.316111   \n",
       "2  0.403562 -0.342310  0.451822 -0.277997 -0.935739 -0.450076  0.549772   \n",
       "3 -1.073559  0.351601 -0.763746 -1.548218  2.159074  1.778653  0.281947   \n",
       "4  1.620568  2.797953  1.169354  0.475839  0.747355 -0.755970  1.511405   \n",
       "\n",
       "         14        15        16        17        18        19  \n",
       "0 -2.054192  2.292589 -1.186306 -2.654753  3.901549  3.679810  \n",
       "1 -0.261092  0.408724  1.363423 -0.938493  0.613537 -0.143302  \n",
       "2 -0.633840 -0.470757  0.350862 -0.091547 -0.113236 -1.613632  \n",
       "3  1.518407  0.056362  0.735596  0.620567  0.548776  0.565449  \n",
       "4 -0.960099  0.064637 -3.064460  2.071304 -0.516139  1.468904  "
      ]
     },
     "execution_count": 57,
     "metadata": {},
     "output_type": "execute_result"
    }
   ],
   "source": [
    "# Re-apply PCA to the data while selecting for number of components to retain.\n",
    "pca2 = PCA(n_components=20)\n",
    "reduced_azdias = pca2.fit_transform(scaled_azdias)\n",
    "reduced_azdias = pd.DataFrame(reduced_azdias)\n",
    "reduced_azdias.head()"
   ]
  },
  {
   "cell_type": "markdown",
   "metadata": {},
   "source": [
    "### Discussion 2.2: Perform Dimensionality Reduction\n",
    "\n",
    "I have made a scree plot based on the the explained variance ratio and the cumulative variance, and i can see that the first 20 components have more than 60% of the variance explianed and so i re applied the PCA using 20 components as parameter and made the fit_transform function and converted the result back to dataframe"
   ]
  },
  {
   "cell_type": "markdown",
   "metadata": {},
   "source": [
    "### Step 2.3: Interpret Principal Components\n",
    "\n",
    "Now that we have our transformed principal components, it's a nice idea to check out the weight of each variable on the first few components to see if they can be interpreted in some fashion.\n",
    "\n",
    "As a reminder, each principal component is a unit vector that points in the direction of highest variance (after accounting for the variance captured by earlier principal components). The further a weight is from zero, the more the principal component is in the direction of the corresponding feature. If two features have large weights of the same sign (both positive or both negative), then increases in one tend expect to be associated with increases in the other. To contrast, features with different signs can be expected to show a negative correlation: increases in one variable should result in a decrease in the other.\n",
    "\n",
    "- To investigate the features, you should map each weight to their corresponding feature name, then sort the features according to weight. The most interesting features for each principal component, then, will be those at the beginning and end of the sorted list. Use the data dictionary document to help you understand these most prominent features, their relationships, and what a positive or negative value on the principal component might indicate.\n",
    "- You should investigate and interpret feature associations from the first three principal components in this substep. To help facilitate this, you should write a function that you can call at any time to print the sorted list of feature weights, for the *i*-th principal component. This might come in handy in the next step of the project, when you interpret the tendencies of the discovered clusters."
   ]
  },
  {
   "cell_type": "code",
   "execution_count": 58,
   "metadata": {},
   "outputs": [
    {
     "data": {
      "text/plain": [
       "array([[ -1.15586025e-01,   1.09943515e-02,  -2.11868929e-01, ...,\n",
       "         -9.66915804e-02,   1.89717763e-01,  -1.16861496e-01],\n",
       "       [  2.39227322e-01,   5.58714469e-02,   6.98104607e-02, ...,\n",
       "         -1.42749592e-02,   7.59470699e-02,  -2.48786735e-03],\n",
       "       [  3.75814014e-02,  -3.61317040e-01,   1.44215383e-01, ...,\n",
       "          5.77310635e-02,   1.76189986e-02,  -9.98882765e-03],\n",
       "       ..., \n",
       "       [ -4.15761629e-13,  -3.80563109e-13,  -8.26479136e-13, ...,\n",
       "          2.51601909e-15,   2.14275590e-15,   7.43876271e-16],\n",
       "       [  8.17349992e-13,  -2.31893118e-13,  -3.14103948e-13, ...,\n",
       "         -1.46913940e-16,   9.04697083e-16,   1.12651069e-15],\n",
       "       [ -6.59414074e-14,  -1.08487592e-13,   8.39374950e-14, ...,\n",
       "         -3.89160125e-16,   1.60950072e-16,   3.74654098e-17]])"
      ]
     },
     "execution_count": 58,
     "metadata": {},
     "output_type": "execute_result"
    }
   ],
   "source": [
    "pca.components_"
   ]
  },
  {
   "cell_type": "code",
   "execution_count": 59,
   "metadata": {},
   "outputs": [
    {
     "data": {
      "text/plain": [
       "85"
      ]
     },
     "execution_count": 59,
     "metadata": {},
     "output_type": "execute_result"
    }
   ],
   "source": [
    "len(pca.components_)"
   ]
  },
  {
   "cell_type": "code",
   "execution_count": 60,
   "metadata": {},
   "outputs": [
    {
     "data": {
      "text/plain": [
       "{'PLZ8_ANTG3': 0.21028467505588774,\n",
       " 'PLZ8_ANTG4': 0.20580693144535023,\n",
       " 'PLZ8_BAUMAX': 0.20209654575558342,\n",
       " 'WEALTH': 0.18971776324335921,\n",
       " 'HH_EINKOMMEN_SCORE': 0.189063645500679,\n",
       " 'ORTSGR_KLS9': 0.18455397958087205,\n",
       " 'EWDICHTE': 0.18229229447861417,\n",
       " 'FINANZ_HAUSBAUER': 0.15170223057026075,\n",
       " 'FINANZ_SPARER': 0.14455651277894227,\n",
       " 'PLZ8_ANTG2': 0.14254440679409919,\n",
       " 'KBA05_ANTG4': 0.14236688383313498,\n",
       " 'FINANZTYP_1': 0.13256355541090101,\n",
       " 'ARBEIT': 0.13058950011841133,\n",
       " 'ANZ_HAUSHALTE_AKTIV': 0.12698984035765476,\n",
       " 'RELAT_AB': 0.12412331864689007,\n",
       " 'KBA05_ANTG3': 0.12296832929395919,\n",
       " 'SEMIO_PFLICHT': 0.11058451407432582,\n",
       " 'SEMIO_REL': 0.10696833291007374,\n",
       " 'DECADE': 0.10234017641365013,\n",
       " 'SEMIO_RAT': 0.092636459638611432,\n",
       " 'ZABEOTYP_5': 0.090569765937037139,\n",
       " 'SEMIO_TRADV': 0.087070356124257856,\n",
       " 'GEBAEUDETYP_3.0': 0.079113952589557113,\n",
       " 'FINANZ_UNAUFFAELLIGER': 0.076643551878847138,\n",
       " 'SEMIO_MAT': 0.072705504046766165,\n",
       " 'FINANZ_ANLEGER': 0.071112095905183997,\n",
       " 'SEMIO_FAM': 0.070979243361373345,\n",
       " 'SEMIO_KULT': 0.06633197162994052,\n",
       " 'REGIOTYP': 0.063859606854457157,\n",
       " 'ZABEOTYP_4': 0.050262985290693528,\n",
       " 'GEBAEUDETYP_8.0': 0.04942809798900296,\n",
       " 'OST_WEST_KZ': 0.048224356224042704,\n",
       " 'SEMIO_KAEM': 0.039869230735476546,\n",
       " 'PLZ8_HHZ': 0.039770823978407928,\n",
       " 'ZABEOTYP_6': 0.038637746352092044,\n",
       " 'SEMIO_SOZ': 0.037682550262535766,\n",
       " 'KKK': 0.036021518774537561,\n",
       " 'ANZ_HH_TITEL': 0.032343852269279202,\n",
       " 'HEALTH_TYP': 0.030924457247659135,\n",
       " 'W_KEIT_KIND_HH': 0.030422370262066217,\n",
       " 'SEMIO_DOM': 0.027020721252883691,\n",
       " 'VERS_TYP': 0.023805808283162842,\n",
       " 'FINANZTYP_4': 0.01643145645156063,\n",
       " 'ANREDE_KZ': 0.010994351464878815,\n",
       " 'KBA05_ANTG2': 0.007699849412943576,\n",
       " 'SEMIO_KRIT': 0.0063882176413563273,\n",
       " 'FINANZTYP_5': 0.0043235260035681938,\n",
       " 'GEBAEUDETYP_5.0': 0.00034375269769134904,\n",
       " 'SOHO_KZ': -0.0021264012645856615,\n",
       " 'ANZ_TITEL': -0.0033422055546600154,\n",
       " 'GEBAEUDETYP_6.0': -0.0036179866314299172,\n",
       " 'GEBAEUDETYP_4.0': -0.0058863279982556468,\n",
       " 'GEBAEUDETYP_2.0': -0.019375868539522983,\n",
       " 'RETOURTYP_BK_S': -0.023123439004281713,\n",
       " 'ZABEOTYP_3': -0.034723373073761568,\n",
       " 'ONLINE_AFFINITAET': -0.036995042113073966,\n",
       " 'FINANZTYP_6': -0.039707882809311069,\n",
       " 'SEMIO_VERT': -0.041779076674152371,\n",
       " 'ZABEOTYP_2': -0.045926825114719169,\n",
       " 'FINANZTYP_3': -0.047482579037414686,\n",
       " 'MIN_GEBAEUDEJAHR': -0.048281817766986403,\n",
       " 'WOHNDAUER_2008': -0.056769638454302225,\n",
       " 'SEMIO_LUST': -0.069267080988022006,\n",
       " 'SEMIO_ERL': -0.071630962703772907,\n",
       " 'ANZ_PERSONEN': -0.072440979602329661,\n",
       " 'KBA13_ANZAHL_PKW': -0.072456251526740401,\n",
       " 'WOHNLAGE': -0.077273101346944789,\n",
       " 'ZABEOTYP_1': -0.095796238426588007,\n",
       " 'MOVEMENT': -0.096691580390446299,\n",
       " 'FINANZTYP_2': -0.097194739668433075,\n",
       " 'GREEN_AVANTGARDE': -0.098832610248676164,\n",
       " 'GEBAEUDETYP_1.0': -0.10241859344045696,\n",
       " 'FINANZ_VORSORGER': -0.11372950187820452,\n",
       " 'GEBAEUDETYP_RASTER': -0.11483074703478253,\n",
       " 'ALTERSKATEGORIE_GROB': -0.11558602470082747,\n",
       " 'LIFE_STAGE': -0.11686149648772448,\n",
       " 'BALLRAUM': -0.11878412972949903,\n",
       " 'INNENSTADT': -0.15336664934675259,\n",
       " 'PLZ8_GBZ': -0.15624520874356168,\n",
       " 'KONSUMNAEHE': -0.15821009529457453,\n",
       " 'KBA05_GBZ': -0.19973259096727569,\n",
       " 'KBA05_ANTG1': -0.20791141300711952,\n",
       " 'PLZ8_ANTG1': -0.21035543141789972,\n",
       " 'FINANZ_MINIMALIST': -0.21186892895096687,\n",
       " 'MOBI_REGIO': -0.22355010777585568}"
      ]
     },
     "execution_count": 60,
     "metadata": {},
     "output_type": "execute_result"
    }
   ],
   "source": [
    "# Map weights for the first principal component to corresponding feature names\n",
    "# and then print the linked values, sorted by weight.\n",
    "# HINT: Try defining a function here or in a new cell that you can reuse in the\n",
    "# other cells.\n",
    "\n",
    "#These links were very helpful\n",
    "#https://stackoverflow.com/questions/4863406/make-map-return-a-dictionary\n",
    "#https://stackoverflow.com/questions/613183/how-do-i-sort-a-dictionary-by-value\n",
    "\n",
    "def map_weights(pca,comp):\n",
    "    map_of_weights = {scaled_azdias.columns[i]:pca.components_[comp][i] for i in range(len(pca.components_))}\n",
    "    return dict(sorted(map_of_weights.items(), key=lambda item: item[1],reverse=True))\n",
    "\n",
    "map_weights(pca,0)"
   ]
  },
  {
   "cell_type": "code",
   "execution_count": 61,
   "metadata": {},
   "outputs": [
    {
     "data": {
      "text/plain": [
       "{'ALTERSKATEGORIE_GROB': 0.23922732179036274,\n",
       " 'FINANZ_VORSORGER': 0.22412103441822728,\n",
       " 'ZABEOTYP_3': 0.21099538098342396,\n",
       " 'SEMIO_ERL': 0.19502147158559324,\n",
       " 'SEMIO_LUST': 0.16925926603880653,\n",
       " 'RETOURTYP_BK_S': 0.16178527538191784,\n",
       " 'W_KEIT_KIND_HH': 0.11878560383565781,\n",
       " 'FINANZ_HAUSBAUER': 0.10966886461777121,\n",
       " 'FINANZTYP_5': 0.10228619260633828,\n",
       " 'PLZ8_ANTG3': 0.093493801709482099,\n",
       " 'EWDICHTE': 0.090619232524686108,\n",
       " 'PLZ8_ANTG4': 0.090285007392655631,\n",
       " 'ORTSGR_KLS9': 0.090246950501088108,\n",
       " 'FINANZTYP_2': 0.087762164649543936,\n",
       " 'SEMIO_KRIT': 0.086595209096956713,\n",
       " 'PLZ8_BAUMAX': 0.086102408048781054,\n",
       " 'SEMIO_KAEM': 0.078466922670041864,\n",
       " 'WEALTH': 0.075947069941256523,\n",
       " 'FINANZTYP_6': 0.070843015443164611,\n",
       " 'FINANZ_MINIMALIST': 0.069810460713354144,\n",
       " 'KBA05_ANTG4': 0.067985918507765003,\n",
       " 'ARBEIT': 0.067794103974179162,\n",
       " 'RELAT_AB': 0.063720108902051972,\n",
       " 'PLZ8_ANTG2': 0.063713058425455008,\n",
       " 'ANZ_HAUSHALTE_AKTIV': 0.063339553383403829,\n",
       " 'HH_EINKOMMEN_SCORE': 0.057876189914655117,\n",
       " 'WOHNDAUER_2008': 0.057011168499671361,\n",
       " 'ANREDE_KZ': 0.055871446942869274,\n",
       " 'SEMIO_DOM': 0.044079046965309426,\n",
       " 'KBA05_ANTG3': 0.042092727781684838,\n",
       " 'GEBAEUDETYP_3.0': 0.032184929636381282,\n",
       " 'VERS_TYP': 0.031858210269158631,\n",
       " 'ANZ_HH_TITEL': 0.030377697070068228,\n",
       " 'OST_WEST_KZ': 0.028484765856666462,\n",
       " 'ZABEOTYP_6': 0.023899566552357279,\n",
       " 'REGIOTYP': 0.020462406458406107,\n",
       " 'PLZ8_HHZ': 0.012893721661794751,\n",
       " 'GEBAEUDETYP_8.0': 0.010540854247106551,\n",
       " 'ANZ_TITEL': 0.0070218479749254003,\n",
       " 'GEBAEUDETYP_2.0': 0.0036020179334192983,\n",
       " 'KKK': 0.0029200136067687255,\n",
       " 'GEBAEUDETYP_6.0': 0.00069171980191692461,\n",
       " 'GEBAEUDETYP_4.0': 0.00068998353270713722,\n",
       " 'GEBAEUDETYP_5.0': 0.00032640434158621821,\n",
       " 'SOHO_KZ': -0.0019351592451487764,\n",
       " 'LIFE_STAGE': -0.0024878673549680948,\n",
       " 'KBA05_ANTG2': -0.0087910925560748358,\n",
       " 'MOVEMENT': -0.014274959189391291,\n",
       " 'GREEN_AVANTGARDE': -0.016062613043089605,\n",
       " 'GEBAEUDETYP_1.0': -0.036200990882711136,\n",
       " 'KBA13_ANZAHL_PKW': -0.036845869459118726,\n",
       " 'ZABEOTYP_2': -0.038301408543263631,\n",
       " 'SEMIO_VERT': -0.040500668435165137,\n",
       " 'GEBAEUDETYP_RASTER': -0.047989897717589096,\n",
       " 'MIN_GEBAEUDEJAHR': -0.049264256868923377,\n",
       " 'WOHNLAGE': -0.050700080645453942,\n",
       " 'HEALTH_TYP': -0.051505090993231653,\n",
       " 'BALLRAUM': -0.059413586508097964,\n",
       " 'ANZ_PERSONEN': -0.060055638241268292,\n",
       " 'KONSUMNAEHE': -0.071260169354297159,\n",
       " 'PLZ8_GBZ': -0.072914158843374072,\n",
       " 'INNENSTADT': -0.073696357288096384,\n",
       " 'SEMIO_SOZ': -0.073734540738536553,\n",
       " 'ZABEOTYP_1': -0.076230114374497324,\n",
       " 'KBA05_ANTG1': -0.078607321404927794,\n",
       " 'FINANZTYP_3': -0.085945933517458231,\n",
       " 'KBA05_GBZ': -0.086074250549490555,\n",
       " 'MOBI_REGIO': -0.088190836470709008,\n",
       " 'PLZ8_ANTG1': -0.091951093044148433,\n",
       " 'ZABEOTYP_5': -0.093338374890913831,\n",
       " 'FINANZTYP_4': -0.096953030433854365,\n",
       " 'ZABEOTYP_4': -0.10099451519126001,\n",
       " 'FINANZTYP_1': -0.12502261602723139,\n",
       " 'SEMIO_MAT': -0.13950487242965878,\n",
       " 'SEMIO_FAM': -0.14729709877600666,\n",
       " 'ONLINE_AFFINITAET': -0.16306913086027841,\n",
       " 'SEMIO_RAT': -0.16743759551415591,\n",
       " 'SEMIO_KULT': -0.18027918239403656,\n",
       " 'FINANZ_ANLEGER': -0.20289818436954013,\n",
       " 'SEMIO_PFLICHT': -0.20907958968966239,\n",
       " 'SEMIO_TRADV': -0.21745872296573182,\n",
       " 'FINANZ_UNAUFFAELLIGER': -0.22279361571703357,\n",
       " 'SEMIO_REL': -0.22351393348061227,\n",
       " 'FINANZ_SPARER': -0.22603345692697147,\n",
       " 'DECADE': -0.24123460854644657}"
      ]
     },
     "execution_count": 61,
     "metadata": {},
     "output_type": "execute_result"
    }
   ],
   "source": [
    "# Map weights for the second principal component to corresponding feature names\n",
    "# and then print the linked values, sorted by weight.\n",
    "map_weights(pca,1)"
   ]
  },
  {
   "cell_type": "code",
   "execution_count": 62,
   "metadata": {},
   "outputs": [
    {
     "data": {
      "text/plain": [
       "{'SEMIO_VERT': 0.3362229152289184,\n",
       " 'SEMIO_FAM': 0.2627979701277825,\n",
       " 'SEMIO_SOZ': 0.26248273809268324,\n",
       " 'SEMIO_KULT': 0.25281460296032304,\n",
       " 'FINANZ_MINIMALIST': 0.14421538294987757,\n",
       " 'FINANZTYP_5': 0.14307182214494868,\n",
       " 'ZABEOTYP_1': 0.11621272351587431,\n",
       " 'SEMIO_REL': 0.10103816079633164,\n",
       " 'RETOURTYP_BK_S': 0.08764951802798869,\n",
       " 'SEMIO_MAT': 0.082977793275038791,\n",
       " 'W_KEIT_KIND_HH': 0.070274992734508504,\n",
       " 'FINANZ_VORSORGER': 0.068175542511338172,\n",
       " 'GREEN_AVANTGARDE': 0.060056025273186542,\n",
       " 'MOVEMENT': 0.057731063452425881,\n",
       " 'ZABEOTYP_6': 0.052237106996415136,\n",
       " 'ORTSGR_KLS9': 0.050128390135349414,\n",
       " 'EWDICHTE': 0.049675271846710327,\n",
       " 'PLZ8_BAUMAX': 0.047138731382354401,\n",
       " 'PLZ8_ANTG4': 0.044053505900305455,\n",
       " 'PLZ8_ANTG3': 0.043153454656448889,\n",
       " 'ALTERSKATEGORIE_GROB': 0.037581401363846349,\n",
       " 'SEMIO_LUST': 0.036692185246162773,\n",
       " 'ARBEIT': 0.030687692131300581,\n",
       " 'PLZ8_ANTG2': 0.029816196547983887,\n",
       " 'RELAT_AB': 0.029572802752572486,\n",
       " 'GEBAEUDETYP_3.0': 0.025017139706320329,\n",
       " 'WOHNDAUER_2008': 0.024397407984298059,\n",
       " 'KBA05_ANTG4': 0.021643933366044709,\n",
       " 'ANZ_HAUSHALTE_AKTIV': 0.02039398460296462,\n",
       " 'WEALTH': 0.017618998573218369,\n",
       " 'ANZ_HH_TITEL': 0.012581616983308713,\n",
       " 'FINANZTYP_3': 0.012567923537203866,\n",
       " 'ANZ_TITEL': 0.0098412417819267912,\n",
       " 'OST_WEST_KZ': 0.0090959109598004757,\n",
       " 'FINANZTYP_6': 0.0086581956010536847,\n",
       " 'PLZ8_HHZ': 0.0074839280774690606,\n",
       " 'VERS_TYP': 0.0066433104365552558,\n",
       " 'GEBAEUDETYP_2.0': 0.0062778834356050153,\n",
       " 'FINANZTYP_4': 0.0042256657599165836,\n",
       " 'GEBAEUDETYP_4.0': 0.00410824405563883,\n",
       " 'GEBAEUDETYP_6.0': 0.0033437503517075385,\n",
       " 'GEBAEUDETYP_8.0': 0.0025989376679640204,\n",
       " 'KBA05_ANTG3': 0.0019933424879594428,\n",
       " 'ANZ_PERSONEN': 0.00064285719401498652,\n",
       " 'GEBAEUDETYP_5.0': 0.00060671013882053297,\n",
       " 'SOHO_KZ': -0.00028324431355859639,\n",
       " 'KBA05_ANTG2': -0.009460090426741825,\n",
       " 'LIFE_STAGE': -0.009988827649096213,\n",
       " 'MIN_GEBAEUDEJAHR': -0.012576365387253093,\n",
       " 'HEALTH_TYP': -0.013749353847665197,\n",
       " 'KBA05_ANTG1': -0.015777313265656779,\n",
       " 'REGIOTYP': -0.01705394196872451,\n",
       " 'KBA05_GBZ': -0.018612991173640361,\n",
       " 'FINANZTYP_2': -0.019096048297514788,\n",
       " 'KBA13_ANZAHL_PKW': -0.020662856129796944,\n",
       " 'ZABEOTYP_3': -0.021341673879565849,\n",
       " 'MOBI_REGIO': -0.022039611781992118,\n",
       " 'GEBAEUDETYP_1.0': -0.02463901449704135,\n",
       " 'ZABEOTYP_2': -0.025258931476844177,\n",
       " 'WOHNLAGE': -0.027029177652714981,\n",
       " 'KKK': -0.029570511219527428,\n",
       " 'ONLINE_AFFINITAET': -0.029901048506228985,\n",
       " 'HH_EINKOMMEN_SCORE': -0.031799407885800518,\n",
       " 'PLZ8_GBZ': -0.03441634921213263,\n",
       " 'GEBAEUDETYP_RASTER': -0.034642476709242975,\n",
       " 'ZABEOTYP_5': -0.036801925530933602,\n",
       " 'SEMIO_TRADV': -0.037229437081040033,\n",
       " 'BALLRAUM': -0.039490826072888945,\n",
       " 'KONSUMNAEHE': -0.039834217770421072,\n",
       " 'SEMIO_PFLICHT': -0.042529757751652901,\n",
       " 'PLZ8_ANTG1': -0.043264070120059089,\n",
       " 'INNENSTADT': -0.045743088280779796,\n",
       " 'FINANZ_HAUSBAUER': -0.057633224124018424,\n",
       " 'FINANZ_UNAUFFAELLIGER': -0.068244816598946739,\n",
       " 'ZABEOTYP_4': -0.069613711169023706,\n",
       " 'DECADE': -0.071773658231478993,\n",
       " 'FINANZ_SPARER': -0.076265600026265673,\n",
       " 'FINANZTYP_1': -0.11664025524800373,\n",
       " 'FINANZ_ANLEGER': -0.16554593212471269,\n",
       " 'SEMIO_RAT': -0.17809365368076077,\n",
       " 'SEMIO_ERL': -0.20074200016635993,\n",
       " 'SEMIO_KRIT': -0.27729612697180922,\n",
       " 'SEMIO_DOM': -0.30101568734674095,\n",
       " 'SEMIO_KAEM': -0.33135288079162145,\n",
       " 'ANREDE_KZ': -0.361317039804604}"
      ]
     },
     "execution_count": 62,
     "metadata": {},
     "output_type": "execute_result"
    }
   ],
   "source": [
    "# Map weights for the third principal component to corresponding feature names\n",
    "# and then print the linked values, sorted by weight.\n",
    "map_weights(pca,2)"
   ]
  },
  {
   "cell_type": "markdown",
   "metadata": {},
   "source": [
    "### Discussion 2.3: Interpret Principal Components\n",
    "\n",
    "* For the first component PLZ8_ANTG3 ,PLZ8_ANTG4 ,PLZ8_BAUMAX are very strong which indicates The number of family houses with more than 6+ members in PLZ8 region and the building type in the same region.While PLZ8_ANTG1 , FINANZ_MINIMALIST, MOBI_REGIO are the weakest which are the Number of 1-2 family houses in the PLZ8 region, low financial typology, movement patterns respectively.\n",
    "\n",
    "* For the second component ALTERSKATEGORIE_GROB, FINANZ_VORSORGER,,ZABEOTYP_3 are the strongest attributes which indicates age,financial prepared ,Energy consumption typology respectively , while SEMIO_REL, FINANZ_SPARER, DECADE are the weakest which are the religious personality, money saver personality , and decade which is similar to age\n",
    "\n",
    "* For the third component SEMIO_VERT,'SEMIO_FAM','SEMIO_SOZ','SEMIO_KULT' are the strongest and they are people with personality dreamful, family minded,socially minded , cultural minded while the weakest attributes are 'SEMIO_RAT', 'SEMIO_ERL','SEMIO_KRIT','SEMIO_DOM','SEMIO_KAEM','ANREDE_KZ'and they are people with personalties rational,event-oriented, critical-minded, dominant-minded , combative attitude ,and finally gender.\n",
    "\n",
    "So as summary for the first component The house type and size has great effect while in the the second component age and medium financial state have great effect and in the third component we can see that people's personalities have the greatest effect with more deamful people with social attitude while people with rational, analyzing mind have low effect"
   ]
  },
  {
   "cell_type": "markdown",
   "metadata": {},
   "source": [
    "## Step 3: Clustering\n",
    "\n",
    "### Step 3.1: Apply Clustering to General Population\n",
    "\n",
    "You've assessed and cleaned the demographics data, then scaled and transformed them. Now, it's time to see how the data clusters in the principal components space. In this substep, you will apply k-means clustering to the dataset and use the average within-cluster distances from each point to their assigned cluster's centroid to decide on a number of clusters to keep.\n",
    "\n",
    "- Use sklearn's [KMeans](http://scikit-learn.org/stable/modules/generated/sklearn.cluster.KMeans.html#sklearn.cluster.KMeans) class to perform k-means clustering on the PCA-transformed data.\n",
    "- Then, compute the average difference from each point to its assigned cluster's center. **Hint**: The KMeans object's `.score()` method might be useful here, but note that in sklearn, scores tend to be defined so that larger is better. Try applying it to a small, toy dataset, or use an internet search to help your understanding.\n",
    "- Perform the above two steps for a number of different cluster counts. You can then see how the average distance decreases with an increasing number of clusters. However, each additional cluster provides a smaller net benefit. Use this fact to select a final number of clusters in which to group the data. **Warning**: because of the large size of the dataset, it can take a long time for the algorithm to resolve. The more clusters to fit, the longer the algorithm will take. You should test for cluster counts through at least 10 clusters to get the full picture, but you shouldn't need to test for a number of clusters above about 30.\n",
    "- Once you've selected a final number of clusters to use, re-fit a KMeans instance to perform the clustering operation. Make sure that you also obtain the cluster assignments for the general demographics data, since you'll be using them in the final Step 3.3."
   ]
  },
  {
   "cell_type": "code",
   "execution_count": 119,
   "metadata": {},
   "outputs": [
    {
     "name": "stdout",
     "output_type": "stream",
     "text": [
      "With 1 clusters kmeans have score of 45699645.05\n",
      "With 3 clusters kmeans have score of 34513955.26\n",
      "With 5 clusters kmeans have score of 30586498.41\n",
      "With 7 clusters kmeans have score of 28132284.99\n",
      "With 9 clusters kmeans have score of 26558614.80\n",
      "With 11 clusters kmeans have score of 25458565.72\n",
      "With 13 clusters kmeans have score of 24615290.02\n",
      "With 15 clusters kmeans have score of 23800933.81\n",
      "With 17 clusters kmeans have score of 23035284.96\n",
      "With 19 clusters kmeans have score of 22515845.10\n"
     ]
    }
   ],
   "source": [
    "# Over a number of different cluster counts...\n",
    "centres=[]\n",
    "scores=[]\n",
    "for i in range(1,20,2):\n",
    "\n",
    "    # run k-means clustering on the data and...\n",
    "    kmeans =KMeans(i)\n",
    "    model =kmeans.fit(reduced_azdias)\n",
    "    score = abs(model.score(reduced_azdias))\n",
    "    # compute the average within-cluster distances.\n",
    "    print(f'With {i} clusters kmeans have score of {\"{:.2f}\".format(score)}')\n",
    "    scores.append(score)\n",
    "    centres.append(i) "
   ]
  },
  {
   "cell_type": "code",
   "execution_count": 120,
   "metadata": {},
   "outputs": [
    {
     "data": {
      "image/png": "[encoded data removed]",
      "text/plain": [
       "<matplotlib.figure.Figure at 0x7fe26530a128>"
      ]
     },
     "metadata": {
      "needs_background": "light"
     },
     "output_type": "display_data"
    }
   ],
   "source": [
    "# Investigate the change in within-cluster distance across number of clusters.\n",
    "# HINT: Use matplotlib's plot function to visualize this relationship.\n",
    "plt.figure(figsize=(12,8))\n",
    "plt.plot(centres, scores, linestyle='--', marker='o', color='b')\n",
    "plt.xticks(centres)\n",
    "plt.title('Average distance for each cluster',fontsize=14)\n",
    "plt.xlabel('Clusters',fontsize=12)\n",
    "plt.ylabel('Score',fontsize=12);"
   ]
  },
  {
   "cell_type": "code",
   "execution_count": 63,
   "metadata": {},
   "outputs": [
    {
     "data": {
      "text/plain": [
       "array([ 8,  9, 10, ...,  9,  5,  6], dtype=int32)"
      ]
     },
     "execution_count": 63,
     "metadata": {},
     "output_type": "execute_result"
    }
   ],
   "source": [
    "# Re-fit the k-means model with the selected number of clusters and obtain\n",
    "# cluster predictions for the general population demographics data.\n",
    "kmeans =KMeans(11)\n",
    "model =kmeans.fit(reduced_azdias)\n",
    "preds = model.predict(reduced_azdias)\n",
    "preds"
   ]
  },
  {
   "cell_type": "markdown",
   "metadata": {},
   "source": [
    "### Discussion 3.1: Apply Clustering to General Population\n",
    "\n",
    "In the scree plot We can see a strong leveling off after 11 clusters, which suggests 11 clusters should be used. as after that the average distance doesn't decrease much"
   ]
  },
  {
   "cell_type": "markdown",
   "metadata": {},
   "source": [
    "### Step 3.2: Apply All Steps to the Customer Data\n",
    "\n",
    "Now that you have clusters and cluster centers for the general population, it's time to see how the customer data maps on to those clusters. Take care to not confuse this for re-fitting all of the models to the customer data. Instead, you're going to use the fits from the general population to clean, transform, and cluster the customer data. In the last step of the project, you will interpret how the general population fits apply to the customer data.\n",
    "\n",
    "- Don't forget when loading in the customers data, that it is semicolon (`;`) delimited.\n",
    "- Apply the same feature wrangling, selection, and engineering steps to the customer demographics using the `clean_data()` function you created earlier. (You can assume that the customer demographics data has similar meaning behind missing data patterns as the general demographics data.)\n",
    "- Use the sklearn objects from the general demographics data, and apply their transformations to the customers data. That is, you should not be using a `.fit()` or `.fit_transform()` method to re-fit the old objects, nor should you be creating new sklearn objects! Carry the data through the feature scaling, PCA, and clustering steps, obtaining cluster assignments for all of the data in the customer demographics data."
   ]
  },
  {
   "cell_type": "code",
   "execution_count": 64,
   "metadata": {},
   "outputs": [
    {
     "data": {
      "text/html": [
       "<div>\n",
       "<style scoped>\n",
       "    .dataframe tbody tr th:only-of-type {\n",
       "        vertical-align: middle;\n",
       "    }\n",
       "\n",
       "    .dataframe tbody tr th {\n",
       "        vertical-align: top;\n",
       "    }\n",
       "\n",
       "    .dataframe thead th {\n",
       "        text-align: right;\n",
       "    }\n",
       "</style>\n",
       "<table border=\"1\" class=\"dataframe\">\n",
       "  <thead>\n",
       "    <tr style=\"text-align: right;\">\n",
       "      <th></th>\n",
       "      <th>AGER_TYP</th>\n",
       "      <th>ALTERSKATEGORIE_GROB</th>\n",
       "      <th>ANREDE_KZ</th>\n",
       "      <th>CJT_GESAMTTYP</th>\n",
       "      <th>FINANZ_MINIMALIST</th>\n",
       "      <th>FINANZ_SPARER</th>\n",
       "      <th>FINANZ_VORSORGER</th>\n",
       "      <th>FINANZ_ANLEGER</th>\n",
       "      <th>FINANZ_UNAUFFAELLIGER</th>\n",
       "      <th>FINANZ_HAUSBAUER</th>\n",
       "      <th>...</th>\n",
       "      <th>PLZ8_ANTG1</th>\n",
       "      <th>PLZ8_ANTG2</th>\n",
       "      <th>PLZ8_ANTG3</th>\n",
       "      <th>PLZ8_ANTG4</th>\n",
       "      <th>PLZ8_BAUMAX</th>\n",
       "      <th>PLZ8_HHZ</th>\n",
       "      <th>PLZ8_GBZ</th>\n",
       "      <th>ARBEIT</th>\n",
       "      <th>ORTSGR_KLS9</th>\n",
       "      <th>RELAT_AB</th>\n",
       "    </tr>\n",
       "  </thead>\n",
       "  <tbody>\n",
       "    <tr>\n",
       "      <th>0</th>\n",
       "      <td>2</td>\n",
       "      <td>4</td>\n",
       "      <td>1</td>\n",
       "      <td>5.0</td>\n",
       "      <td>5</td>\n",
       "      <td>1</td>\n",
       "      <td>5</td>\n",
       "      <td>1</td>\n",
       "      <td>2</td>\n",
       "      <td>2</td>\n",
       "      <td>...</td>\n",
       "      <td>3.0</td>\n",
       "      <td>3.0</td>\n",
       "      <td>1.0</td>\n",
       "      <td>0.0</td>\n",
       "      <td>1.0</td>\n",
       "      <td>5.0</td>\n",
       "      <td>5.0</td>\n",
       "      <td>1.0</td>\n",
       "      <td>2.0</td>\n",
       "      <td>1.0</td>\n",
       "    </tr>\n",
       "    <tr>\n",
       "      <th>1</th>\n",
       "      <td>-1</td>\n",
       "      <td>4</td>\n",
       "      <td>1</td>\n",
       "      <td>NaN</td>\n",
       "      <td>5</td>\n",
       "      <td>1</td>\n",
       "      <td>5</td>\n",
       "      <td>1</td>\n",
       "      <td>3</td>\n",
       "      <td>2</td>\n",
       "      <td>...</td>\n",
       "      <td>NaN</td>\n",
       "      <td>NaN</td>\n",
       "      <td>NaN</td>\n",
       "      <td>NaN</td>\n",
       "      <td>NaN</td>\n",
       "      <td>NaN</td>\n",
       "      <td>NaN</td>\n",
       "      <td>NaN</td>\n",
       "      <td>NaN</td>\n",
       "      <td>NaN</td>\n",
       "    </tr>\n",
       "    <tr>\n",
       "      <th>2</th>\n",
       "      <td>-1</td>\n",
       "      <td>4</td>\n",
       "      <td>2</td>\n",
       "      <td>2.0</td>\n",
       "      <td>5</td>\n",
       "      <td>1</td>\n",
       "      <td>5</td>\n",
       "      <td>1</td>\n",
       "      <td>4</td>\n",
       "      <td>4</td>\n",
       "      <td>...</td>\n",
       "      <td>2.0</td>\n",
       "      <td>3.0</td>\n",
       "      <td>3.0</td>\n",
       "      <td>1.0</td>\n",
       "      <td>3.0</td>\n",
       "      <td>3.0</td>\n",
       "      <td>2.0</td>\n",
       "      <td>3.0</td>\n",
       "      <td>5.0</td>\n",
       "      <td>3.0</td>\n",
       "    </tr>\n",
       "    <tr>\n",
       "      <th>3</th>\n",
       "      <td>1</td>\n",
       "      <td>4</td>\n",
       "      <td>1</td>\n",
       "      <td>2.0</td>\n",
       "      <td>5</td>\n",
       "      <td>1</td>\n",
       "      <td>5</td>\n",
       "      <td>2</td>\n",
       "      <td>1</td>\n",
       "      <td>2</td>\n",
       "      <td>...</td>\n",
       "      <td>3.0</td>\n",
       "      <td>2.0</td>\n",
       "      <td>1.0</td>\n",
       "      <td>0.0</td>\n",
       "      <td>1.0</td>\n",
       "      <td>3.0</td>\n",
       "      <td>4.0</td>\n",
       "      <td>1.0</td>\n",
       "      <td>3.0</td>\n",
       "      <td>1.0</td>\n",
       "    </tr>\n",
       "    <tr>\n",
       "      <th>4</th>\n",
       "      <td>-1</td>\n",
       "      <td>3</td>\n",
       "      <td>1</td>\n",
       "      <td>6.0</td>\n",
       "      <td>3</td>\n",
       "      <td>1</td>\n",
       "      <td>4</td>\n",
       "      <td>4</td>\n",
       "      <td>5</td>\n",
       "      <td>2</td>\n",
       "      <td>...</td>\n",
       "      <td>2.0</td>\n",
       "      <td>4.0</td>\n",
       "      <td>2.0</td>\n",
       "      <td>1.0</td>\n",
       "      <td>2.0</td>\n",
       "      <td>3.0</td>\n",
       "      <td>3.0</td>\n",
       "      <td>3.0</td>\n",
       "      <td>5.0</td>\n",
       "      <td>1.0</td>\n",
       "    </tr>\n",
       "  </tbody>\n",
       "</table>\n",
       "<p>5 rows × 85 columns</p>\n",
       "</div>"
      ],
      "text/plain": [
       "   AGER_TYP  ALTERSKATEGORIE_GROB  ANREDE_KZ  CJT_GESAMTTYP  \\\n",
       "0         2                     4          1            5.0   \n",
       "1        -1                     4          1            NaN   \n",
       "2        -1                     4          2            2.0   \n",
       "3         1                     4          1            2.0   \n",
       "4        -1                     3          1            6.0   \n",
       "\n",
       "   FINANZ_MINIMALIST  FINANZ_SPARER  FINANZ_VORSORGER  FINANZ_ANLEGER  \\\n",
       "0                  5              1                 5               1   \n",
       "1                  5              1                 5               1   \n",
       "2                  5              1                 5               1   \n",
       "3                  5              1                 5               2   \n",
       "4                  3              1                 4               4   \n",
       "\n",
       "   FINANZ_UNAUFFAELLIGER  FINANZ_HAUSBAUER    ...     PLZ8_ANTG1  PLZ8_ANTG2  \\\n",
       "0                      2                 2    ...            3.0         3.0   \n",
       "1                      3                 2    ...            NaN         NaN   \n",
       "2                      4                 4    ...            2.0         3.0   \n",
       "3                      1                 2    ...            3.0         2.0   \n",
       "4                      5                 2    ...            2.0         4.0   \n",
       "\n",
       "   PLZ8_ANTG3  PLZ8_ANTG4  PLZ8_BAUMAX  PLZ8_HHZ  PLZ8_GBZ  ARBEIT  \\\n",
       "0         1.0         0.0          1.0       5.0       5.0     1.0   \n",
       "1         NaN         NaN          NaN       NaN       NaN     NaN   \n",
       "2         3.0         1.0          3.0       3.0       2.0     3.0   \n",
       "3         1.0         0.0          1.0       3.0       4.0     1.0   \n",
       "4         2.0         1.0          2.0       3.0       3.0     3.0   \n",
       "\n",
       "   ORTSGR_KLS9  RELAT_AB  \n",
       "0          2.0       1.0  \n",
       "1          NaN       NaN  \n",
       "2          5.0       3.0  \n",
       "3          3.0       1.0  \n",
       "4          5.0       1.0  \n",
       "\n",
       "[5 rows x 85 columns]"
      ]
     },
     "execution_count": 64,
     "metadata": {},
     "output_type": "execute_result"
    }
   ],
   "source": [
    "# Load in the customer demographics data.\n",
    "customers= pd.read_csv('Udacity_CUSTOMERS_Subset.csv',delimiter=';')\n",
    "customers.head()"
   ]
  },
  {
   "cell_type": "code",
   "execution_count": 65,
   "metadata": {},
   "outputs": [
    {
     "name": "stderr",
     "output_type": "stream",
     "text": [
      "/opt/conda/lib/python3.6/site-packages/pandas/core/generic.py:5890: SettingWithCopyWarning: \n",
      "A value is trying to be set on a copy of a slice from a DataFrame\n",
      "\n",
      "See the caveats in the documentation: http://pandas.pydata.org/pandas-docs/stable/indexing.html#indexing-view-versus-copy\n",
      "  self._update_inplace(new_data)\n",
      "/opt/conda/lib/python3.6/site-packages/pandas/core/frame.py:3697: SettingWithCopyWarning: \n",
      "A value is trying to be set on a copy of a slice from a DataFrame\n",
      "\n",
      "See the caveats in the documentation: http://pandas.pydata.org/pandas-docs/stable/indexing.html#indexing-view-versus-copy\n",
      "  errors=errors)\n"
     ]
    },
    {
     "name": "stdout",
     "output_type": "stream",
     "text": [
      "<class 'pandas.core.frame.DataFrame'>\n",
      "Int64Index: 141713 entries, 0 to 191651\n",
      "Data columns (total 84 columns):\n",
      "ALTERSKATEGORIE_GROB     141480 non-null float64\n",
      "ANREDE_KZ                141713 non-null int64\n",
      "FINANZ_MINIMALIST        141713 non-null int64\n",
      "FINANZ_SPARER            141713 non-null int64\n",
      "FINANZ_VORSORGER         141713 non-null int64\n",
      "FINANZ_ANLEGER           141713 non-null int64\n",
      "FINANZ_UNAUFFAELLIGER    141713 non-null int64\n",
      "FINANZ_HAUSBAUER         141713 non-null int64\n",
      "GREEN_AVANTGARDE         141713 non-null int64\n",
      "HEALTH_TYP               139376 non-null float64\n",
      "RETOURTYP_BK_S           138595 non-null float64\n",
      "SEMIO_SOZ                141713 non-null int64\n",
      "SEMIO_FAM                141713 non-null int64\n",
      "SEMIO_REL                141713 non-null int64\n",
      "SEMIO_MAT                141713 non-null int64\n",
      "SEMIO_VERT               141713 non-null int64\n",
      "SEMIO_LUST               141713 non-null int64\n",
      "SEMIO_ERL                141713 non-null int64\n",
      "SEMIO_KULT               141713 non-null int64\n",
      "SEMIO_RAT                141713 non-null int64\n",
      "SEMIO_KRIT               141713 non-null int64\n",
      "SEMIO_DOM                141713 non-null int64\n",
      "SEMIO_KAEM               141713 non-null int64\n",
      "SEMIO_PFLICHT            141713 non-null int64\n",
      "SEMIO_TRADV              141713 non-null int64\n",
      "SOHO_KZ                  141713 non-null float64\n",
      "VERS_TYP                 139376 non-null float64\n",
      "ANZ_PERSONEN             141713 non-null float64\n",
      "ANZ_TITEL                141713 non-null float64\n",
      "HH_EINKOMMEN_SCORE       141713 non-null float64\n",
      "W_KEIT_KIND_HH           133780 non-null float64\n",
      "WOHNDAUER_2008           141713 non-null float64\n",
      "ANZ_HAUSHALTE_AKTIV      139268 non-null float64\n",
      "ANZ_HH_TITEL             139535 non-null float64\n",
      "KONSUMNAEHE              141707 non-null float64\n",
      "MIN_GEBAEUDEJAHR         141713 non-null float64\n",
      "OST_WEST_KZ              141713 non-null int64\n",
      "WOHNLAGE                 141713 non-null float64\n",
      "KBA05_ANTG1              135672 non-null float64\n",
      "KBA05_ANTG2              135672 non-null float64\n",
      "KBA05_ANTG3              135672 non-null float64\n",
      "KBA05_ANTG4              135672 non-null float64\n",
      "KBA05_GBZ                135670 non-null float64\n",
      "BALLRAUM                 141681 non-null float64\n",
      "EWDICHTE                 141681 non-null float64\n",
      "INNENSTADT               141681 non-null float64\n",
      "GEBAEUDETYP_RASTER       141713 non-null float64\n",
      "KKK                      131587 non-null float64\n",
      "MOBI_REGIO               135672 non-null float64\n",
      "ONLINE_AFFINITAET        138595 non-null float64\n",
      "REGIOTYP                 131587 non-null float64\n",
      "KBA13_ANZAHL_PKW         140370 non-null float64\n",
      "PLZ8_ANTG1               138888 non-null float64\n",
      "PLZ8_ANTG2               138888 non-null float64\n",
      "PLZ8_ANTG3               138888 non-null float64\n",
      "PLZ8_ANTG4               138888 non-null float64\n",
      "PLZ8_BAUMAX              138888 non-null float64\n",
      "PLZ8_HHZ                 138888 non-null float64\n",
      "PLZ8_GBZ                 138888 non-null float64\n",
      "ARBEIT                   141141 non-null float64\n",
      "ORTSGR_KLS9              141164 non-null float64\n",
      "RELAT_AB                 141141 non-null float64\n",
      "FINANZTYP_1              141713 non-null uint8\n",
      "FINANZTYP_2              141713 non-null uint8\n",
      "FINANZTYP_3              141713 non-null uint8\n",
      "FINANZTYP_4              141713 non-null uint8\n",
      "FINANZTYP_5              141713 non-null uint8\n",
      "FINANZTYP_6              141713 non-null uint8\n",
      "ZABEOTYP_1               141713 non-null uint8\n",
      "ZABEOTYP_2               141713 non-null uint8\n",
      "ZABEOTYP_3               141713 non-null uint8\n",
      "ZABEOTYP_4               141713 non-null uint8\n",
      "ZABEOTYP_5               141713 non-null uint8\n",
      "ZABEOTYP_6               141713 non-null uint8\n",
      "GEBAEUDETYP_1.0          141713 non-null uint8\n",
      "GEBAEUDETYP_2.0          141713 non-null uint8\n",
      "GEBAEUDETYP_3.0          141713 non-null uint8\n",
      "GEBAEUDETYP_4.0          141713 non-null uint8\n",
      "GEBAEUDETYP_6.0          141713 non-null uint8\n",
      "GEBAEUDETYP_8.0          141713 non-null uint8\n",
      "DECADE                   140409 non-null float64\n",
      "MOVEMENT                 140409 non-null float64\n",
      "WEALTH                   141095 non-null float64\n",
      "LIFE_STAGE               141095 non-null float64\n",
      "dtypes: float64(43), int64(23), uint8(18)\n",
      "memory usage: 74.9 MB\n"
     ]
    }
   ],
   "source": [
    "# Apply preprocessing, feature transformation, and clustering from the general\n",
    "# demographics onto the customer data, obtaining cluster predictions for the\n",
    "# customer demographics data.\n",
    "\n",
    "customers ,customers_with_missing_values= clean_data(customers)\n",
    "customers.info()"
   ]
  },
  {
   "cell_type": "markdown",
   "metadata": {},
   "source": [
    "Making Imputation to fill nan values with the average value along each axis"
   ]
  },
  {
   "cell_type": "code",
   "execution_count": 66,
   "metadata": {},
   "outputs": [
    {
     "data": {
      "text/plain": [
       "106956"
      ]
     },
     "execution_count": 66,
     "metadata": {},
     "output_type": "execute_result"
    }
   ],
   "source": [
    "customers.isnull().sum().sum()"
   ]
  },
  {
   "cell_type": "markdown",
   "metadata": {},
   "source": [
    "We have a missing column which is not created during encoding the dummy variables so i will create the column and fill it with zeros to be able to use the same sklearn objects"
   ]
  },
  {
   "cell_type": "code",
   "execution_count": 70,
   "metadata": {},
   "outputs": [],
   "source": [
    "customers['GEBAEUDETYP_5.0'] = 0.0"
   ]
  },
  {
   "cell_type": "code",
   "execution_count": 71,
   "metadata": {},
   "outputs": [],
   "source": [
    "#making a copy of the customers df\n",
    "customers_copy = customers.copy()\n",
    "#preserving the df columns to add later \n",
    "columns = customers_copy.columns\n",
    "\n",
    "imputed_customers = imputer.transform(customers_copy)"
   ]
  },
  {
   "cell_type": "code",
   "execution_count": 72,
   "metadata": {
    "scrolled": true
   },
   "outputs": [
    {
     "data": {
      "text/plain": [
       "0"
      ]
     },
     "execution_count": 72,
     "metadata": {},
     "output_type": "execute_result"
    }
   ],
   "source": [
    "imputed_customers = pd.DataFrame(imputed_customers,columns=columns)\n",
    "imputed_customers.isnull().sum().sum()"
   ]
  },
  {
   "cell_type": "markdown",
   "metadata": {},
   "source": [
    "Making scaling using StandardScaler and Dimensionalty reductions using PCA"
   ]
  },
  {
   "cell_type": "code",
   "execution_count": 73,
   "metadata": {},
   "outputs": [
    {
     "data": {
      "text/plain": [
       "array([0, 7, 6, ..., 0, 1, 6], dtype=int32)"
      ]
     },
     "execution_count": 73,
     "metadata": {},
     "output_type": "execute_result"
    }
   ],
   "source": [
    "#making the feature scaling \n",
    "scaled_customers = scaler.transform(imputed_customers)\n",
    "#making the dimensionalty reduction\n",
    "reduced_customers = pca2.transform(scaled_customers)\n",
    "#using kmeans clustring and obtaining predictions\n",
    "customers_predictions = model.predict(reduced_customers)\n",
    "customers_predictions"
   ]
  },
  {
   "cell_type": "markdown",
   "metadata": {},
   "source": [
    "### Step 3.3: Compare Customer Data to Demographics Data\n",
    "\n",
    "At this point, you have clustered data based on demographics of the general population of Germany, and seen how the customer data for a mail-order sales company maps onto those demographic clusters. In this final substep, you will compare the two cluster distributions to see where the strongest customer base for the company is.\n",
    "\n",
    "Consider the proportion of persons in each cluster for the general population, and the proportions for the customers. If we think the company's customer base to be universal, then the cluster assignment proportions should be fairly similar between the two. If there are only particular segments of the population that are interested in the company's products, then we should see a mismatch from one to the other. If there is a higher proportion of persons in a cluster for the customer data compared to the general population (e.g. 5% of persons are assigned to a cluster for the general population, but 15% of the customer data is closest to that cluster's centroid) then that suggests the people in that cluster to be a target audience for the company. On the other hand, the proportion of the data in a cluster being larger in the general population than the customer data (e.g. only 2% of customers closest to a population centroid that captures 6% of the data) suggests that group of persons to be outside of the target demographics.\n",
    "\n",
    "Take a look at the following points in this step:\n",
    "\n",
    "- Compute the proportion of data points in each cluster for the general population and the customer data. Visualizations will be useful here: both for the individual dataset proportions, but also to visualize the ratios in cluster representation between groups. Seaborn's [`countplot()`](https://seaborn.pydata.org/generated/seaborn.countplot.html) or [`barplot()`](https://seaborn.pydata.org/generated/seaborn.barplot.html) function could be handy.\n",
    "  - Recall the analysis you performed in step 1.1.3 of the project, where you separated out certain data points from the dataset if they had more than a specified threshold of missing values. If you found that this group was qualitatively different from the main bulk of the data, you should treat this as an additional data cluster in this analysis. Make sure that you account for the number of data points in this subset, for both the general population and customer datasets, when making your computations!\n",
    "- Which cluster or clusters are overrepresented in the customer dataset compared to the general population? Select at least one such cluster and infer what kind of people might be represented by that cluster. Use the principal component interpretations from step 2.3 or look at additional components to help you make this inference. Alternatively, you can use the `.inverse_transform()` method of the PCA and StandardScaler objects to transform centroids back to the original data space and interpret the retrieved values directly.\n",
    "- Perform a similar investigation for the underrepresented clusters. Which cluster or clusters are underrepresented in the customer dataset compared to the general population, and what kinds of people are typified by these clusters?"
   ]
  },
  {
   "cell_type": "code",
   "execution_count": 77,
   "metadata": {},
   "outputs": [
    {
     "data": {
      "text/plain": [
       "49939"
      ]
     },
     "execution_count": 77,
     "metadata": {},
     "output_type": "execute_result"
    }
   ],
   "source": [
    "len(customers_with_missing_values)"
   ]
  },
  {
   "cell_type": "code",
   "execution_count": 83,
   "metadata": {},
   "outputs": [
    {
     "data": {
      "text/plain": [
       "0     58979\n",
       "1     22921\n",
       "2     19976\n",
       "3     11092\n",
       "4     10952\n",
       "5      8935\n",
       "6      3083\n",
       "7      2016\n",
       "8      1333\n",
       "9      1311\n",
       "10     1115\n",
       "11    49939\n",
       "dtype: int64"
      ]
     },
     "execution_count": 83,
     "metadata": {},
     "output_type": "execute_result"
    }
   ],
   "source": [
    "old = pd.Series(customers_predictions).value_counts()\n",
    "new = pd.Series(len(customers_with_missing_values))\n",
    "old.append(new,ignore_index=True)"
   ]
  },
  {
   "cell_type": "code",
   "execution_count": 101,
   "metadata": {},
   "outputs": [
    {
     "data": {
      "text/plain": [
       "0     0.307740\n",
       "1     0.057876\n",
       "2     0.010519\n",
       "3     0.057145\n",
       "4     0.016086\n",
       "5     0.005818\n",
       "6     0.104231\n",
       "7     0.119597\n",
       "8     0.006955\n",
       "9     0.006841\n",
       "10    0.046621\n",
       "11    0.260571\n",
       "dtype: float64"
      ]
     },
     "execution_count": 101,
     "metadata": {},
     "output_type": "execute_result"
    }
   ],
   "source": [
    "old_preds = pd.Series(customers_predictions).value_counts().sort_index()\n",
    "#add the data with missing values as new cluster\n",
    "customers_preds = old_preds.append(pd.Series(len(customers_with_missing_values)),ignore_index=True)\n",
    "customers_proportion = (customers_preds/customers_preds.sum())\n",
    "customers_proportion"
   ]
  },
  {
   "cell_type": "code",
   "execution_count": 105,
   "metadata": {},
   "outputs": [
    {
     "data": {
      "text/plain": [
       "0     0.064795\n",
       "1     0.106141\n",
       "2     0.066509\n",
       "3     0.111657\n",
       "4     0.043134\n",
       "5     0.070989\n",
       "6     0.094062\n",
       "7     0.061306\n",
       "8     0.089254\n",
       "9     0.096711\n",
       "10    0.090799\n",
       "11    0.104643\n",
       "dtype: float64"
      ]
     },
     "execution_count": 105,
     "metadata": {},
     "output_type": "execute_result"
    }
   ],
   "source": [
    "old_preds_original = pd.Series(preds).value_counts().sort_index()\n",
    "#add the data with missing values as new cluster\n",
    "general_preditions = old_preds_original.append(pd.Series(len(data2)),ignore_index=True)\n",
    "general_proportion = (general_preditions /general_preditions.sum())\n",
    "general_proportion"
   ]
  },
  {
   "cell_type": "code",
   "execution_count": 107,
   "metadata": {},
   "outputs": [
    {
     "data": {
      "image/png": "[encoded data removed]",
      "text/plain": [
       "<matplotlib.figure.Figure at 0x7fe2652a54a8>"
      ]
     },
     "metadata": {
      "needs_background": "light"
     },
     "output_type": "display_data"
    }
   ],
   "source": [
    "# Compare the proportion of data in each cluster for the customer data to the\n",
    "# proportion of data in each cluster for the general population.\n",
    "\n",
    "#The main plot i got from the matplotlib site \n",
    "#https://matplotlib.org/stable/gallery/lines_bars_and_markers/barchart.html#sphx-glr-gallery-lines-bars-and-markers-barchart-py\n",
    "\n",
    "labels = general_preditions.index\n",
    "\n",
    "x = np.arange(len(labels))  # the label locations\n",
    "width = 0.35  # the width of the bars\n",
    "\n",
    "fig, ax = plt.subplots(figsize=(12,8))\n",
    "rects1 = ax.bar(x - width/2, general_proportion, width, label='General')\n",
    "rects2 = ax.bar(x + width/2, customers_proportion, width, label='Customer')\n",
    "\n",
    "# Add some text for labels, title and custom x-axis tick labels, etc.\n",
    "ax.set_ylabel('Proportion of data points')\n",
    "ax.set_xlabel('Clusters')\n",
    "ax.set_title('Predictions for both General and customer clusters')\n",
    "ax.set_xticks(labels) \n",
    "ax.set_xticklabels(labels)\n",
    "ax.legend()\n",
    "\n",
    "fig.tight_layout()\n",
    "\n",
    "plt.show()"
   ]
  },
  {
   "cell_type": "markdown",
   "metadata": {},
   "source": [
    "From the graph we can see that the components at positions 0,7 are overrepresented and they form a target audience,and also the cluster we formed for data with missing values is also overrepresented, while components at positions 5,8,9 are underrepresented."
   ]
  },
  {
   "cell_type": "code",
   "execution_count": 114,
   "metadata": {},
   "outputs": [
    {
     "data": {
      "text/plain": [
       "{'FINANZ_HAUSBAUER': 0.15170211796550173,\n",
       " 'FINANZ_SPARER': 0.14455648207224892,\n",
       " 'SEMIO_REL': 0.1069682434674859,\n",
       " 'SEMIO_RAT': 0.092636385657968723,\n",
       " 'FINANZ_UNAUFFAELLIGER': 0.076643557448338201,\n",
       " 'SEMIO_MAT': 0.072705338801198421,\n",
       " 'FINANZ_ANLEGER': 0.071112002189492138,\n",
       " 'SEMIO_FAM': 0.070979185050579735,\n",
       " 'SEMIO_KULT': 0.066331941410947462,\n",
       " 'SEMIO_SOZ': 0.037682538403020237,\n",
       " 'HEALTH_TYP': 0.030924364492765324,\n",
       " 'ANREDE_KZ': 0.0109943317418829,\n",
       " 'RETOURTYP_BK_S': -0.023123541777411979,\n",
       " 'SEMIO_VERT': -0.04177903911872699,\n",
       " 'SEMIO_LUST': -0.069267276540828371,\n",
       " 'SEMIO_ERL': -0.071630999157814804,\n",
       " 'GREEN_AVANTGARDE': -0.098832830774670491,\n",
       " 'FINANZ_VORSORGER': -0.1137294484028709,\n",
       " 'ALTERSKATEGORIE_GROB': -0.1155860006302336,\n",
       " 'FINANZ_MINIMALIST': -0.21186888480387062}"
      ]
     },
     "execution_count": 114,
     "metadata": {},
     "output_type": "execute_result"
    }
   ],
   "source": [
    "# What kinds of people are part of a cluster that is overrepresented in the\n",
    "# customer data compared to the general population?\n",
    "\n",
    "map_weights(pca2,0)"
   ]
  },
  {
   "cell_type": "markdown",
   "metadata": {},
   "source": [
    "One of the overrepresented components which is a good target are mainly people with home ownership(FINANZ_HAUSBAUER) and people who tend to save money(FINANZ_SPARER) and people with religious beliefs(SEMIO_REL)"
   ]
  },
  {
   "cell_type": "code",
   "execution_count": 115,
   "metadata": {},
   "outputs": [
    {
     "data": {
      "text/plain": [
       "{'FINANZ_ANLEGER': 0.029304008585517169,\n",
       " 'ANREDE_KZ': 0.022161526837223638,\n",
       " 'GREEN_AVANTGARDE': 0.017834585871717393,\n",
       " 'FINANZ_MINIMALIST': 0.015207561805815669,\n",
       " 'SEMIO_LUST': 0.01266445497736225,\n",
       " 'SEMIO_RAT': 0.012336443306495255,\n",
       " 'SEMIO_MAT': 0.010678868208432016,\n",
       " 'SEMIO_ERL': 0.010141151419288685,\n",
       " 'HEALTH_TYP': 0.009037716971192945,\n",
       " 'ALTERSKATEGORIE_GROB': 0.0057828818552298307,\n",
       " 'FINANZ_SPARER': -0.0026100895273835378,\n",
       " 'SEMIO_SOZ': -0.0036457373778053062,\n",
       " 'SEMIO_FAM': -0.0091495370075148283,\n",
       " 'SEMIO_VERT': -0.0099308458935584813,\n",
       " 'RETOURTYP_BK_S': -0.018690520451470665,\n",
       " 'FINANZ_HAUSBAUER': -0.020906539645607358,\n",
       " 'SEMIO_REL': -0.026321983657300412,\n",
       " 'SEMIO_KULT': -0.047826327232076971,\n",
       " 'FINANZ_UNAUFFAELLIGER': -0.049795299070143469,\n",
       " 'FINANZ_VORSORGER': -0.058024473748854132}"
      ]
     },
     "execution_count": 115,
     "metadata": {},
     "output_type": "execute_result"
    }
   ],
   "source": [
    "# What kinds of people are part of a cluster that is underrepresented in the\n",
    "# customer data compared to the general population?\n",
    "\n",
    "map_weights(pca2,5)"
   ]
  },
  {
   "cell_type": "markdown",
   "metadata": {},
   "source": [
    "One of the underrepresented components which is not a good target are mainly investor people(FINANZ_ANLEGER) and people with Membership in environmental sustainability as part of youth(GREEN_AVANTGARDE) and of cource people with low financial interest(FINANZ_MINIMALIST)"
   ]
  },
  {
   "cell_type": "markdown",
   "metadata": {},
   "source": [
    "### Discussion 3.3: Compare Customer Data to Demographics Data\n",
    "\n",
    "After comparing the cluster for both the global and customer populations we have clues that the cluster we made for the data with missing values is a good candidate for a good target and also as explained the components at positions 0,7 are overrepresented and they form a target audience, while components at positions 5,8,9 are underrepresented.\n",
    "\n",
    "One of the overrepresented components (component 1 at position 0) which is a good target are mainly people with home ownership(FINANZ_HAUSBAUER) and people who tend to save money(FINANZ_SPARER) and people with religious beliefs(SEMIO_REL)\n",
    "\n",
    "and One of the underrepresented components (component 6 at position 5) which is not a good target are mainly investor people(FINANZ_ANLEGER) and people with Membership in environmental sustainability as part of youth(GREEN_AVANTGARDE) and of cource people with low financial interest(FINANZ_MINIMALIST)"
   ]
  },
  {
   "cell_type": "markdown",
   "metadata": {},
   "source": [
    "> Congratulations on making it this far in the project! Before you finish, make sure to check through the entire notebook from top to bottom to make sure that your analysis follows a logical flow and all of your findings are documented in **Discussion** cells. Once you've checked over all of your work, you should export the notebook as an HTML document to submit for evaluation. You can do this from the menu, navigating to **File -> Download as -> HTML (.html)**. You will submit both that document and this notebook for your project submission."
   ]
  },
  {
   "cell_type": "code",
   "execution_count": null,
   "metadata": {},
   "outputs": [],
   "source": []
  }
 ],
 "metadata": {
  "kernelspec": {
   "display_name": "Python 3",
   "language": "python",
   "name": "python3"
  },
  "language_info": {
   "codemirror_mode": {
    "name": "ipython",
    "version": 3
   },
   "file_extension": ".py",
   "mimetype": "text/x-python",
   "name": "python",
   "nbconvert_exporter": "python",
   "pygments_lexer": "ipython3",
   "version": "3.6.3"
  }
 },
 "nbformat": 4,
 "nbformat_minor": 2
}
